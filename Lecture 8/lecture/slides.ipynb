{
 "cells": [
  {
   "cell_type": "markdown",
   "metadata": {
    "slideshow": {
     "slide_type": "slide"
    }
   },
   "source": [
    "## Concurrency, parallelism and python"
   ]
  },
  {
   "cell_type": "markdown",
   "metadata": {
    "slideshow": {
     "slide_type": "slide"
    }
   },
   "source": [
    "### Process"
   ]
  },
  {
   "cell_type": "markdown",
   "metadata": {
    "slideshow": {
     "slide_type": "fragment"
    }
   },
   "source": [
    "<b>Процесс</b> — запущенная программа.\n",
    "* У каждого процесса есть изолированное от других\n",
    "процессов состояние:\n",
    "    * виртуальное адресное пространство,\n",
    "    * указатель на исполняемую инструкцию,\n",
    "    * стек вызовов,\n",
    "    * системные ресурсы, например, открытые файловые\n",
    "        дескрипторы.\n",
    "* Процессы удобны для одновременного выполнения\n",
    "нескольких задач.\n",
    "* Альтернативный способ: делегировать каждую задачу на\n",
    "выполнение потоку"
   ]
  },
  {
   "cell_type": "markdown",
   "metadata": {
    "slideshow": {
     "slide_type": "slide"
    }
   },
   "source": [
    "### Thread"
   ]
  },
  {
   "cell_type": "markdown",
   "metadata": {
    "slideshow": {
     "slide_type": "fragment"
    }
   },
   "source": [
    "Поток похож на процесс тем, что его исполнение\n",
    "происходит независимо от других потоков (и процессов).\n",
    "* В отличие от процесса поток исполняется внутри процесса\n",
    "и разделяет с ним адресное пространство и системные\n",
    "ресурсы.\n",
    "* Потоки удобны для одновременного выполнения\n",
    "нескольких задач, которым требуется доступ к\n",
    "разделяемому состоянию.\n",
    "* Совместным выполнением нескольких процессов и\n",
    "потоков управляет операционная система, поочерёдно\n",
    "разрешая каждому процессу или потоку использовать\n",
    "сколько-то циклов процессора."
   ]
  },
  {
   "cell_type": "code",
   "execution_count": 5,
   "metadata": {
    "slideshow": {
     "slide_type": "slide"
    }
   },
   "outputs": [],
   "source": [
    "import time\n",
    "import requests\n",
    "\n",
    "def fetch_response(url: str) -> requests.Response:\n",
    "    return requests.get(url)\n",
    "\n",
    "def print_status_codes(responses: list):\n",
    "    for r in responses:\n",
    "        print(r.status_code, end=\" \")"
   ]
  },
  {
   "cell_type": "code",
   "execution_count": 6,
   "metadata": {
    "slideshow": {
     "slide_type": "-"
    }
   },
   "outputs": [],
   "source": [
    "urls = [\n",
    "    \"https://docs.python.org/3/\",\n",
    "    \"https://google.com\",\n",
    "    \"https://example.com\",\n",
    "    \"https://python.org\",\n",
    "    \"https://www.youtube.com/\",\n",
    "    \"https://github.com/\",\n",
    "]"
   ]
  },
  {
   "cell_type": "markdown",
   "metadata": {
    "slideshow": {
     "slide_type": "slide"
    }
   },
   "source": [
    "### Simple (synchronously)"
   ]
  },
  {
   "cell_type": "code",
   "execution_count": 8,
   "metadata": {
    "slideshow": {
     "slide_type": "-"
    }
   },
   "outputs": [
    {
     "name": "stdout",
     "output_type": "stream",
     "text": [
      "200 200 200 200 200 200 CPU times: user 155 ms, sys: 19.2 ms, total: 174 ms\n",
      "Wall time: 2.52 s\n"
     ]
    }
   ],
   "source": [
    "%%time\n",
    "responses = [fetch_response(url) for url in urls]\n",
    "print_status_codes(responses) "
   ]
  },
  {
   "cell_type": "markdown",
   "metadata": {
    "slideshow": {
     "slide_type": "slide"
    }
   },
   "source": [
    "### multithreading"
   ]
  },
  {
   "cell_type": "code",
   "execution_count": 9,
   "metadata": {},
   "outputs": [],
   "source": [
    "from concurrent.futures import ThreadPoolExecutor"
   ]
  },
  {
   "cell_type": "code",
   "execution_count": 12,
   "metadata": {},
   "outputs": [
    {
     "name": "stdout",
     "output_type": "stream",
     "text": [
      "200 200 200 200 200 200 CPU times: user 230 ms, sys: 26.8 ms, total: 257 ms\n",
      "Wall time: 769 ms\n"
     ]
    }
   ],
   "source": [
    "%%time\n",
    "# max_workers is changed to min(32, os.cpu_count() + 4) python3.8+\n",
    "with ThreadPoolExecutor(max_workers=6) as pool:\n",
    "    responses = pool.map(fetch_response, urls)\n",
    "    print_status_codes(responses)"
   ]
  },
  {
   "cell_type": "markdown",
   "metadata": {
    "slideshow": {
     "slide_type": "slide"
    }
   },
   "source": [
    "### multiprocessing"
   ]
  },
  {
   "cell_type": "code",
   "execution_count": 3,
   "metadata": {},
   "outputs": [],
   "source": [
    "from concurrent.futures import ProcessPoolExecutor"
   ]
  },
  {
   "cell_type": "code",
   "execution_count": 1,
   "metadata": {},
   "outputs": [
    {
     "ename": "NameError",
     "evalue": "name 'ProcessPoolExecutor' is not defined",
     "output_type": "error",
     "traceback": [
      "\u001b[0;31m---------------------------------------------------------------------------\u001b[0m",
      "\u001b[0;31mNameError\u001b[0m                                 Traceback (most recent call last)",
      "File \u001b[0;32m<timed exec>:2\u001b[0m\n",
      "\u001b[0;31mNameError\u001b[0m: name 'ProcessPoolExecutor' is not defined"
     ]
    }
   ],
   "source": [
    "%%time\n",
    "# If max_workers is None or not given, it will default to the number of processors (cores) on the machine\n",
    "with ProcessPoolExecutor(max_workers=len(urls)) as pool:\n",
    "    responses = pool.map(fetch_response, urls)\n",
    "    print_status_codes(responses)"
   ]
  },
  {
   "cell_type": "markdown",
   "metadata": {
    "slideshow": {
     "slide_type": "slide"
    }
   },
   "source": [
    "### Another example"
   ]
  },
  {
   "cell_type": "code",
   "execution_count": 5,
   "metadata": {},
   "outputs": [],
   "source": [
    "import math\n",
    "\n",
    "PRIMES = [\n",
    "    112272535095293,\n",
    "    112582705942171,\n",
    "    112272535095293,\n",
    "    115280095190773,\n",
    "    115797848077099,\n",
    "    1099726899285419,\n",
    "]\n",
    "\n",
    "def is_prime(n):\n",
    "    if n < 2:\n",
    "        return False\n",
    "    if n == 2:\n",
    "        return True\n",
    "    if n % 2 == 0:\n",
    "        return False\n",
    "\n",
    "    sqrt_n = int(math.floor(math.sqrt(n)))\n",
    "    for i in range(3, sqrt_n + 1, 2):\n",
    "        if n % i == 0:\n",
    "            return False\n",
    "    return True"
   ]
  },
  {
   "cell_type": "markdown",
   "metadata": {
    "slideshow": {
     "slide_type": "slide"
    }
   },
   "source": [
    "### Simple (synchronously)"
   ]
  },
  {
   "cell_type": "code",
   "execution_count": 6,
   "metadata": {
    "slideshow": {
     "slide_type": "fragment"
    }
   },
   "outputs": [
    {
     "name": "stdout",
     "output_type": "stream",
     "text": [
      "112272535095293 is prime: True\n",
      "112582705942171 is prime: True\n",
      "112272535095293 is prime: True\n",
      "115280095190773 is prime: True\n",
      "115797848077099 is prime: True\n",
      "1099726899285419 is prime: False\n",
      "CPU times: user 2.77 s, sys: 22.6 ms, total: 2.79 s\n",
      "Wall time: 2.82 s\n"
     ]
    }
   ],
   "source": [
    "%%time\n",
    "for number, _is_prime in zip(PRIMES, map(is_prime, PRIMES)):\n",
    "    print(f'{number} is prime: {_is_prime}')"
   ]
  },
  {
   "cell_type": "markdown",
   "metadata": {
    "slideshow": {
     "slide_type": "fragment"
    }
   },
   "source": [
    "### multithreading"
   ]
  },
  {
   "cell_type": "code",
   "execution_count": 9,
   "metadata": {
    "slideshow": {
     "slide_type": "fragment"
    }
   },
   "outputs": [
    {
     "name": "stdout",
     "output_type": "stream",
     "text": [
      "112272535095293 is prime: True\n",
      "112582705942171 is prime: True\n",
      "112272535095293 is prime: True\n",
      "115280095190773 is prime: True\n",
      "115797848077099 is prime: True\n",
      "1099726899285419 is prime: False\n",
      "CPU times: user 2.75 s, sys: 46 ms, total: 2.8 s\n",
      "Wall time: 2.8 s\n"
     ]
    }
   ],
   "source": [
    "%%time\n",
    "with ThreadPoolExecutor() as pool:\n",
    "    for number, _is_prime in zip(PRIMES, pool.map(is_prime, PRIMES)):\n",
    "            print(f'{number} is prime: {_is_prime}')"
   ]
  },
  {
   "cell_type": "markdown",
   "metadata": {
    "slideshow": {
     "slide_type": "slide"
    }
   },
   "source": [
    "### multiprocessing"
   ]
  },
  {
   "cell_type": "code",
   "execution_count": 4,
   "metadata": {},
   "outputs": [
    {
     "ename": "NameError",
     "evalue": "name 'ProcessPoolExecutor' is not defined",
     "output_type": "error",
     "traceback": [
      "\u001b[0;31m---------------------------------------------------------------------------\u001b[0m",
      "\u001b[0;31mNameError\u001b[0m                                 Traceback (most recent call last)",
      "File \u001b[0;32m<timed exec>:1\u001b[0m\n",
      "\u001b[0;31mNameError\u001b[0m: name 'ProcessPoolExecutor' is not defined"
     ]
    }
   ],
   "source": [
    "%%time\n",
    "with ProcessPoolExecutor() as pool:\n",
    "    for number, _is_prime in zip(PRIMES, pool.map(is_prime, PRIMES)):\n",
    "            print(f'{number} is prime: {_is_prime}')"
   ]
  },
  {
   "cell_type": "markdown",
   "metadata": {
    "slideshow": {
     "slide_type": "slide"
    }
   },
   "source": [
    "### Why is there such a big difference?"
   ]
  },
  {
   "cell_type": "markdown",
   "metadata": {
    "slideshow": {
     "slide_type": "slide"
    }
   },
   "source": [
    "### parallelism and concurrency"
   ]
  },
  {
   "cell_type": "markdown",
   "metadata": {
    "slideshow": {
     "slide_type": "-"
    }
   },
   "source": [
    "![](https://s3.tproger.ru/uploads/2016/12/concepts3mini.png)"
   ]
  },
  {
   "cell_type": "markdown",
   "metadata": {
    "slideshow": {
     "slide_type": "slide"
    }
   },
   "source": [
    "### Why is there such a big difference?\n",
    "### Answer is GIL"
   ]
  },
  {
   "cell_type": "markdown",
   "metadata": {
    "slideshow": {
     "slide_type": "fragment"
    }
   },
   "source": [
    "* <b>GIL</b> (global interpreter lock) — это мьютекс, который гарантирует, что в каждый момент времени только один\n",
    "поток имеет доступ к состоянию интерпретатора.\n",
    "* Python C API позволяет отпустить GIL, но это безопасно только при работе с объектами, не зависящими от интерпретатора Python.\n",
    "* Например, все операции ввода/вывода в CPython отпускают GIL\n",
    "* переключение контекста каждые 5 миллисекунд (вытесняющая, принудительная многозадачность)"
   ]
  },
  {
   "cell_type": "code",
   "execution_count": null,
   "metadata": {},
   "outputs": [],
   "source": [
    "...\n",
    "Py_BEGIN_ALLOW_THREADS\n",
    "err = close(fd);\n",
    "if (err < 0)\n",
    "    save_errno = errno;\n",
    "Py_END_ALLOW_THREADS\n",
    "..."
   ]
  },
  {
   "cell_type": "markdown",
   "metadata": {
    "slideshow": {
     "slide_type": "slide"
    }
   },
   "source": [
    "### So GIL is bad?"
   ]
  },
  {
   "cell_type": "markdown",
   "metadata": {
    "slideshow": {
     "slide_type": "subslide"
    }
   },
   "source": [
    "### Nope! Depends on task"
   ]
  },
  {
   "cell_type": "markdown",
   "metadata": {
    "slideshow": {
     "slide_type": "slide"
    }
   },
   "source": [
    "### Have a snack?\n",
    "![](https://upload.wikimedia.org/wikipedia/commons/3/36/McDonald%27s_Golden_Arches.svg)"
   ]
  },
  {
   "cell_type": "markdown",
   "metadata": {
    "slideshow": {
     "slide_type": "slide"
    }
   },
   "source": [
    "### Lets order a coffee"
   ]
  },
  {
   "cell_type": "markdown",
   "metadata": {
    "slideshow": {
     "slide_type": "-"
    }
   },
   "source": [
    "![](https://i.imgur.com/XsSm55k.png)"
   ]
  },
  {
   "cell_type": "markdown",
   "metadata": {
    "slideshow": {
     "slide_type": "subslide"
    }
   },
   "source": [
    "### Look good, now lets order a Big Mac"
   ]
  },
  {
   "cell_type": "markdown",
   "metadata": {
    "slideshow": {
     "slide_type": "fragment"
    }
   },
   "source": [
    "\n",
    "![](https://cdn-images-1.medium.com/max/720/0*APVcPuyDaIKSDZPz.png)\n"
   ]
  },
  {
   "cell_type": "markdown",
   "metadata": {
    "slideshow": {
     "slide_type": "subslide"
    }
   },
   "source": [
    "### Where is the relation?"
   ]
  },
  {
   "cell_type": "markdown",
   "metadata": {
    "slideshow": {
     "slide_type": "fragment"
    }
   },
   "source": [
    "![](https://i.imgur.com/3zAfnP7.png)"
   ]
  },
  {
   "cell_type": "markdown",
   "metadata": {
    "slideshow": {
     "slide_type": "slide"
    }
   },
   "source": [
    "### I/O bound tasks vs CPU bound tasks\n",
    "![](https://i.imgur.com/8F3Roo8.png)"
   ]
  },
  {
   "cell_type": "markdown",
   "metadata": {
    "slideshow": {
     "slide_type": "slide"
    }
   },
   "source": [
    "### GIL doesn't save you from logical errors"
   ]
  },
  {
   "cell_type": "code",
   "execution_count": 6,
   "metadata": {},
   "outputs": [
    {
     "name": "stdout",
     "output_type": "stream",
     "text": [
      "402  --  498200\n"
     ]
    }
   ],
   "source": [
    "for i in range(1000):\n",
    "    counter = 0\n",
    "\n",
    "    def increment_counter(fake_value):\n",
    "        global counter\n",
    "        for _ in range(100):\n",
    "            counter = counter + 1\n",
    "\n",
    "\n",
    "    fake_data = [x for x in range(5000)]\n",
    "    with ThreadPoolExecutor(max_workers=5000) as executor:\n",
    "        executor.map(increment_counter, fake_data)\n",
    "    if counter != 500000:\n",
    "        print(i,\" -- \", counter)"
   ]
  },
  {
   "cell_type": "code",
   "execution_count": null,
   "metadata": {
    "slideshow": {
     "slide_type": "subslide"
    }
   },
   "outputs": [],
   "source": [
    "from threading import Lock, RLock\n",
    "lock = RLock()\n",
    "\n",
    "for i in range(1000):\n",
    "    counter = 0\n",
    "\n",
    "    def increment_counter(fake_value):\n",
    "        global counter\n",
    "        for _ in range(100):\n",
    "            with lock:\n",
    "                counter += 1\n",
    "\n",
    "\n",
    "    fake_data = [x for x in range(5000)]\n",
    "    with ThreadPoolExecutor(max_workers=5000) as executor:\n",
    "        executor.map(increment_counter, fake_data)\n",
    "    if counter != 500000:\n",
    "        print(counter)"
   ]
  },
  {
   "cell_type": "markdown",
   "metadata": {
    "slideshow": {
     "slide_type": "subslide"
    }
   },
   "source": [
    "### + multithreading is hardly scalable"
   ]
  },
  {
   "cell_type": "markdown",
   "metadata": {},
   "source": [
    "![](https://files.realpython.com/media/Screen_Shot_2018-10-17_at_3.18.44_PM.c02792872031.jpg)"
   ]
  },
  {
   "cell_type": "markdown",
   "metadata": {
    "slideshow": {
     "slide_type": "slide"
    }
   },
   "source": [
    "### Materials\n",
    "#### Documentation:\n",
    "* [Concurrent Execution in python](https://docs.python.org/3/library/concurrency.html)\n",
    "* [concurrent.futures](https://docs.python.org/3/library/concurrent.futures.html)\n",
    "* [multiprocessing ](https://docs.python.org/3/library/multiprocessing.html)\n",
    "* [asyncio](https://docs.python.org/3/library/asyncio.html)\n",
    "* [Celery](https://docs.celeryproject.org/en/stable/getting-started/introduction.html)\n",
    "####  Videos to watch\n",
    "* [McDonalds и Python](https://www.youtube.com/watch?v=b3iXdDmXm7s&t=167s&ab_channel=%D0%94%D0%B8%D0%B4%D0%B6%D0%B8%D1%82%D0%B0%D0%BB%D0%B8%D0%B7%D0%B8%D1%80%D1%83%D0%B9%21)\n",
    "* [Многопроцессность, многопоточность, асинхронность в Python](https://www.youtube.com/watch?v=JIp14T9bvvc&ab_channel=%D0%94%D0%B8%D0%B4%D0%B6%D0%B8%D1%82%D0%B0%D0%BB%D0%B8%D0%B7%D0%B8%D1%80%D1%83%D0%B9%21)\n",
    "* [Многопоточность и GIL](https://www.youtube.com/watch?v=nR8WhdcRJwM&ab_channel=ComputerScienceCenter)\n",
    "* [GIL в Python: зачем он нужен и как с этим жить](https://www.youtube.com/watch?v=AWX4JnAnjBE&ab_channel=MoscowPython)\n",
    "* [Андрей Светлов: \"Подводные камни asyncio\"](https://www.youtube.com/watch?v=GLN_xo4Awcc&ab_channel=PiterPy)\n",
    "#### Real python ultimate guides\n",
    "* [Speed Up Your Python Program With Concurrency](https://realpython.com/python-concurrency/)\n",
    "* [Async IO in Python: A Complete Walkthrough](https://realpython.com/async-io-python/)\n",
    "#### Others\n",
    "* [Асинхронное программирование в Python](https://tproger.ru/translations/asynchronous-programming-in-python/)\n",
    "* [Зачем, когда и как использовать multithreading и multiprocessing в Python](https://habr.com/ru/company/otus/blog/501056/)\n",
    "* [Asynchronous programming. Python3.5+](https://luminousmen.com/post/asynchronous-programming-python3.5)\n",
    "* [How does asyncio work?](https://stackoverflow.com/questions/49005651/how-does-asyncio-actually-work/51116910#51116910)\n",
    "* [Concurrent computing (by Andrey Solomatin)](https://github.com/Cjkjvfnby/presentation-async/blob/master/src/main/asciidoc/presentation.adoc)"
   ]
  },
  {
   "cell_type": "markdown",
   "metadata": {
    "slideshow": {
     "slide_type": "slide"
    }
   },
   "source": [
    "### Homework\n",
    "Ваша задача спарсить информацию о компаниях, находящихся в индексе S&P 500 с данного сайта: <br>\n",
    "https://markets.businessinsider.com/index/components/s&p_500\n",
    "\n",
    "Для каждой компании собрать следующую информацию:\n",
    "* Текущая стоимость в рублях (конвертацию производить по текущему курсу, взятому с сайта [центробанка РФ](http://www.cbr.ru/development/sxml/))\n",
    "* Код компании (справа от названия компании на странице компании)\n",
    "* P/E компании (информация находится справа от графика на странице компании)\n",
    "* Годовой рост/падение компании в процентах (основная таблица)\n",
    "* Высчитать какую прибыль принесли бы акции компании (в процентах), если бы они были куплены на уровне 52 Week Low и проданы на уровне 52 Week High (справа от графика на странице компании)\n",
    "\n",
    "Сохранить итоговую информацию в 4 JSON файла:\n",
    "1. Топ 10 компаний с самими дорогими акциями в рублях.\n",
    "2. Топ 10 компаний с самым низким показателем P/E.\n",
    "3. Топ 10 компаний, которые показали самый высокий рост за последний год\n",
    "4. Топ 10 комппаний, которые принесли бы наибольшую прибыль, если бы были куплены на самом минимуме и проданы на самом максимуме за последний год.\n",
    "<br>Пример формата:\n",
    "```\n",
    "[\n",
    "{\n",
    "    \"code\": \"MMM\",\n",
    "    \"name\": \"3M CO.\",\n",
    "    \"price\" | \"P/E\" | \"growth\" | \"potential profit\" : value,\n",
    "},\n",
    "...\n",
    "]\n",
    "```\n",
    "<br>**P.S. по-максимуму использовать возможности параллелизма и асинхронности.** \n",
    "<br>\n",
    "* bs4\n",
    "* aiohttp"
   ]
  }
 ],
 "metadata": {
  "celltoolbar": "Слайд-шоу",
  "interpreter": {
   "hash": "aee8b7b246df8f9039afb4144a1f6fd8d2ca17a180786b69acc140d282b71a49"
  },
  "kernelspec": {
   "display_name": "Python 3.9.7 64-bit",
   "language": "python",
   "name": "python3"
  },
  "language_info": {
   "codemirror_mode": {
    "name": "ipython",
    "version": 3
   },
   "file_extension": ".py",
   "mimetype": "text/x-python",
   "name": "python",
   "nbconvert_exporter": "python",
   "pygments_lexer": "ipython3",
   "version": "3.9.7"
  }
 },
 "nbformat": 4,
 "nbformat_minor": 4
}
