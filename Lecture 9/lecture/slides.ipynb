{
 "cells": [
  {
   "cell_type": "markdown",
   "metadata": {
    "slideshow": {
     "slide_type": "slide"
    }
   },
   "source": [
    "## Asyncio"
   ]
  },
  {
   "cell_type": "markdown",
   "metadata": {
    "slideshow": {
     "slide_type": "fragment"
    }
   },
   "source": [
    "* works in one thread\n",
    "* use eventloop and generator concepts; single Python object, called the event loop, controls how and when each task gets run\n",
    "* tasks never give up control without intentionally doing so -> thread safe\n",
    "* context switch on **await** statement (cooperative multitasking)"
   ]
  },
  {
   "cell_type": "markdown",
   "metadata": {
    "slideshow": {
     "slide_type": "fragment"
    }
   },
   "source": [
    "![](https://eng.paxos.com/hs-fs/hubfs/_02_Paxos_Engineering/Event-Loop.png?width=1200&name=Event-Loop.png)"
   ]
  },
  {
   "cell_type": "code",
   "execution_count": 18,
   "metadata": {
    "slideshow": {
     "slide_type": "fragment"
    }
   },
   "outputs": [
    {
     "name": "stdout",
     "output_type": "stream",
     "text": [
      "Hello ...\n",
      "... World!\n"
     ]
    }
   ],
   "source": [
    "import asyncio\n",
    "\n",
    "async def sleep(seconds):\n",
    "    await asyncio.sleep(seconds)\n",
    "\n",
    "async def main():\n",
    "    print('Hello ...')\n",
    "    await sleep(1)\n",
    "    print('... World!')\n",
    "\n",
    "# Python 3.7+\n",
    "await main()\n",
    "loop = asycio.get_event_loop()\n",
    "loop.run_until_complete(main)\n",
    "\n",
    "# asyncio.run(main())"
   ]
  },
  {
   "cell_type": "markdown",
   "metadata": {
    "slideshow": {
     "slide_type": "subslide"
    }
   },
   "source": [
    "We say that an object is an `awaitable` object if it can be used in an **await** expression. Many asyncio APIs are designed to accept awaitables.\n",
    "\n",
    "There are three main types of awaitable objects: \n",
    "* Сoroutines\n",
    "* Tasks\n",
    "* Futures."
   ]
  },
  {
   "cell_type": "markdown",
   "metadata": {
    "slideshow": {
     "slide_type": "slide"
    }
   },
   "source": [
    "### Coroutines example"
   ]
  },
  {
   "cell_type": "code",
   "execution_count": 19,
   "metadata": {
    "scrolled": true,
    "slideshow": {
     "slide_type": "fragment"
    }
   },
   "outputs": [
    {
     "name": "stdout",
     "output_type": "stream",
     "text": [
      "Started\n",
      "hello\n",
      "world\n",
      "Finished\n",
      "It took 3.006060838699341 seconds\n"
     ]
    }
   ],
   "source": [
    "# bad example\n",
    "import time\n",
    "import asyncio\n",
    "\n",
    "async def say_after(delay, what):\n",
    "    await asyncio.sleep(delay)  # (4) (5)\n",
    "    print(what) # (6)\n",
    "\n",
    "async def main():\n",
    "    print(\"Started\")  # (2)\n",
    "\n",
    "    await say_after(1, 'hello')  # (3) (7)\n",
    "    await say_after(2, 'world') # (8)\n",
    "    print(\"Finished\") # (9)\n",
    "    \n",
    "t1 = time.time()\n",
    "await main() # (10)\n",
    "# asyncio.run(main())\n",
    "t2 = time.time()\n",
    "print(f\"It took {t2 - t1} seconds\")"
   ]
  },
  {
   "cell_type": "markdown",
   "metadata": {
    "slideshow": {
     "slide_type": "fragment"
    }
   },
   "source": [
    "1. coroutine created and event loop stared with that coroutine in the queue, control returned to event loop, event loop starts the coroutine (main)\n",
    "2. prints text in the main function\n",
    "3. coroutine added to event loop queue, control passed to event loop, event loop starts the coroutine (say_after(1, 'hello'))\n",
    "4. coroutine added to event loop queue, control returned to event loop, event loop is looping\n",
    "5. event loop wait until the coroutine finished and control passed to function\n",
    "6. do some stuff with IO and exit function, It is await function and control passed to event loop after it finished.\n",
    "7. loop see that it can return control to main function\n",
    "8. once more schedule, wait until finished.\n",
    "9. print to IO and finish. Event loop closed.\n",
    "10. event loop shuts down"
   ]
  },
  {
   "cell_type": "markdown",
   "metadata": {
    "slideshow": {
     "slide_type": "slide"
    }
   },
   "source": [
    "### Tasks example"
   ]
  },
  {
   "cell_type": "markdown",
   "metadata": {
    "slideshow": {
     "slide_type": "-"
    }
   },
   "source": [
    "<b>Tasks are used to schedule coroutines concurrently.</b> <br> When a coroutine is wrapped into a Task with functions like `asyncio.create_task()` the coroutine is automatically scheduled and will run as soon as control passed to event loop."
   ]
  },
  {
   "cell_type": "code",
   "execution_count": 22,
   "metadata": {
    "slideshow": {
     "slide_type": "fragment"
    }
   },
   "outputs": [
    {
     "name": "stdout",
     "output_type": "stream",
     "text": [
      "Started\n",
      "Finished\n",
      "It took 0.0003120899200439453 seconds\n"
     ]
    },
    {
     "name": "stdout",
     "output_type": "stream",
     "text": [
      "hello\n",
      "world\n"
     ]
    }
   ],
   "source": [
    "async def main():\n",
    "    task1 = asyncio.create_task(\n",
    "        say_after(1, 'hello'))\n",
    "    task2 = asyncio.create_task(\n",
    "        say_after(2, 'world'))\n",
    "\n",
    "    print(\"Started\")\n",
    "    # Wait until both tasks are completed\n",
    "    # (should take around 2 seconds.)\n",
    "    await task1\n",
    "    \n",
    "    await task2 \n",
    "    print(\"Finished\")\n",
    "\n",
    "t1 = time.time()\n",
    "await main()\n",
    "# asyncio.run(main())\n",
    "t2 = time.time()\n",
    "print(f\"It took {t2 - t1} seconds\")"
   ]
  },
  {
   "cell_type": "markdown",
   "metadata": {},
   "source": [
    "This code do a magic trick, all tasks in the queue started when first await is called. `await task1` will start both `task1` and `task2`. Keep in mind, if you await a coroutine (`await say_after(1, 'oops')`, it will not trigger any task start."
   ]
  },
  {
   "cell_type": "markdown",
   "metadata": {
    "slideshow": {
     "slide_type": "subslide"
    }
   },
   "source": [
    "![](http://onreader.mdl.ru/MasteringConcurrencyInPython/content/figures/Fig1001.jpg)"
   ]
  },
  {
   "cell_type": "markdown",
   "metadata": {
    "slideshow": {
     "slide_type": "slide"
    }
   },
   "source": [
    "### Futures example\n",
    "\n",
    "A **Future** is a special low-level awaitable object that represents an eventual result of an asynchronous operation. <br>\n",
    "Future objects are used to bridge **low-level callback-based code** with high-level async/await code. <br>\n",
    "Normally **there is no need** to create Future objects at the application level code. Future objects, sometimes exposed by libraries and some asyncio APIs, can be awaited."
   ]
  },
  {
   "cell_type": "code",
   "execution_count": 23,
   "metadata": {
    "scrolled": true,
    "slideshow": {
     "slide_type": "fragment"
    }
   },
   "outputs": [
    {
     "name": "stdout",
     "output_type": "stream",
     "text": [
      "hello ...\n",
      "... world\n",
      "It took 1.0024705000000722 seconds\n"
     ]
    }
   ],
   "source": [
    "import time\n",
    "import asyncio\n",
    "\n",
    "async def set_after(fut, delay, value):\n",
    "    # Sleep for *delay* seconds.\n",
    "    await asyncio.sleep(delay)\n",
    "\n",
    "    # Set *value* as a result of *fut* Future.\n",
    "    fut.set_result(value)\n",
    "\n",
    "async def main():\n",
    "    # Get the current event loop.\n",
    "    loop = asyncio.get_running_loop()\n",
    "\n",
    "    # Create a new Future object.\n",
    "    fut = loop.create_future()\n",
    "\n",
    "    # Run \"set_after()\" coroutine in a parallel Task.\n",
    "    # We are using the low-level \"loop.create_task()\" API here because\n",
    "    # we already have a reference to the event loop at hand.\n",
    "    # Otherwise we could have just used \"asyncio.create_task()\".\n",
    "    loop.create_task(\n",
    "        set_after(fut, 1, '... world'))\n",
    "\n",
    "    print('hello ...')\n",
    "\n",
    "    # Wait until *fut* has a result (1 second) and print it.\n",
    "    print(await fut)\n",
    "    \n",
    "t1 = time.perf_counter()\n",
    "await main()\n",
    "# asyncio.run(main())\n",
    "t2 = time.perf_counter()\n",
    "print(f\"It took {t2 - t1} seconds\")"
   ]
  },
  {
   "cell_type": "markdown",
   "metadata": {
    "slideshow": {
     "slide_type": "slide"
    }
   },
   "source": [
    "### Network example"
   ]
  },
  {
   "cell_type": "code",
   "execution_count": 30,
   "metadata": {},
   "outputs": [],
   "source": [
    "from concurrent.futures import ThreadPoolExecutor\n",
    "import requests\n",
    "\n",
    "urls = [\n",
    "    \"https://docs.python.org/3/\",\n",
    "    \"https://google.com\",\n",
    "    \"https://example.com\",\n",
    "    \"https://python.org\",\n",
    "    \"https://www.youtube.com/\",\n",
    "    \"https://github.com/\",\n",
    "]\n",
    "\n",
    "def fetch_response(url: str) -> requests.Response:\n",
    "    return requests.get(url)\n",
    "\n",
    "def print_status_codes(responses: list):\n",
    "    for r in responses:\n",
    "        print(r.status_code, end=\" \")"
   ]
  },
  {
   "cell_type": "code",
   "execution_count": 31,
   "metadata": {
    "slideshow": {
     "slide_type": "-"
    }
   },
   "outputs": [
    {
     "name": "stdout",
     "output_type": "stream",
     "text": [
      "200 200 200 200 200 200 CPU times: user 414 ms, sys: 76.2 ms, total: 490 ms\n",
      "Wall time: 1.09 s\n"
     ]
    }
   ],
   "source": [
    "%%time\n",
    "# max_workers is changed to min(32, os.cpu_count() + 4) python3.8+\n",
    "with ThreadPoolExecutor(max_workers=len(urls)) as pool:\n",
    "    responses = pool.map(fetch_response, urls)\n",
    "    print_status_codes(responses)"
   ]
  },
  {
   "cell_type": "code",
   "execution_count": 26,
   "metadata": {},
   "outputs": [
    {
     "name": "stdout",
     "output_type": "stream",
     "text": [
      "It took 2.9074060916900635 seconds\n",
      "200\n",
      "200\n",
      "200\n",
      "200\n",
      "200\n",
      "200\n"
     ]
    }
   ],
   "source": [
    "async def fetch_response(url: str) -> requests.Response:\n",
    "    return requests.get(url)\n",
    "\n",
    "async def main():\n",
    "    t1 = time.time()\n",
    "    tasks = [asyncio.create_task(fetch_response(url)) for url in urls]\n",
    "#     for task in tasks:\n",
    "#         await task\n",
    "    await asyncio.gather(*tasks)\n",
    "    t2 = time.time()\n",
    "\n",
    "    print(f\"It took {t2 - t1} seconds\")\n",
    "    for task in tasks:\n",
    "        print(task.result().status_code)\n",
    "        \n",
    "await main()"
   ]
  },
  {
   "cell_type": "code",
   "execution_count": 27,
   "metadata": {
    "scrolled": true,
    "slideshow": {
     "slide_type": "fragment"
    }
   },
   "outputs": [
    {
     "name": "stdout",
     "output_type": "stream",
     "text": [
      "It took 2.8574206829071045 seconds\n",
      "200 200 200 200 200 200 "
     ]
    }
   ],
   "source": [
    "async def fetch_response(url: str) -> requests.Response:\n",
    "    return requests.get(url)\n",
    "\n",
    "async def main():\n",
    "    t1 = time.time()\n",
    "    tasks = [asyncio.create_task(fetch_response(url)) for url in urls]\n",
    "    for task in tasks:\n",
    "        await task\n",
    "    t2 = time.time()\n",
    "\n",
    "    print(f\"It took {t2 - t1} seconds\")\n",
    "    for task in tasks:\n",
    "        print(task.result().status_code, end= \" \")\n",
    "        \n",
    "await main()\n",
    "# asyncio.run(main())"
   ]
  },
  {
   "cell_type": "markdown",
   "metadata": {
    "slideshow": {
     "slide_type": "fragment"
    }
   },
   "source": [
    "Python `requests` calls are blocking calls. <br>\n",
    "To make pure async calls you will need event loop embedded into the client."
   ]
  },
  {
   "cell_type": "markdown",
   "metadata": {
    "slideshow": {
     "slide_type": "slide"
    }
   },
   "source": [
    "### aiohttp client"
   ]
  },
  {
   "cell_type": "code",
   "execution_count": 28,
   "metadata": {
    "slideshow": {
     "slide_type": "fragment"
    }
   },
   "outputs": [
    {
     "name": "stdout",
     "output_type": "stream",
     "text": [
      "It took 0.9957880973815918 seconds\n",
      "200 200 200 200 200 200 "
     ]
    }
   ],
   "source": [
    "# bad example\n",
    "import aiohttp\n",
    "\n",
    "async def fetch_response(url):\n",
    "    async with aiohttp.ClientSession() as session:\n",
    "        async with session.get(url) as response:\n",
    "            return response\n",
    "\n",
    "\n",
    "async def main():\n",
    "    t1 = time.time()\n",
    "    tasks = [asyncio.create_task(fetch_response(url)) for url in urls]\n",
    "    await asyncio.gather(*tasks)\n",
    "    t2 = time.time()\n",
    "\n",
    "    print(f\"It took {t2 - t1} seconds\")\n",
    "    for task in tasks:\n",
    "        print(task.result().status, end=\" \")\n",
    "\n",
    "        \n",
    "await main()\n",
    "# asyncio.run(main())"
   ]
  },
  {
   "cell_type": "code",
   "execution_count": 32,
   "metadata": {
    "slideshow": {
     "slide_type": "subslide"
    }
   },
   "outputs": [
    {
     "name": "stdout",
     "output_type": "stream",
     "text": [
      "It took 0.8852806091308594 seconds\n",
      "200 200 200 200 200 200 "
     ]
    }
   ],
   "source": [
    "# good example\n",
    "async def fetch_response(url):\n",
    "    async with aiohttp.ClientSession() as session:\n",
    "        async with session.get(url) as response:\n",
    "            return response\n",
    "\n",
    "async def main():\n",
    "    tasks = [asyncio.create_task(fetch_response(url)) for url in urls]\n",
    "\n",
    "    t1 = time.time()\n",
    "    await asyncio.gather(*tasks)\n",
    "    t2 = time.time()\n",
    "\n",
    "    print(f\"It took {t2 - t1} seconds\")\n",
    "    for task in tasks:\n",
    "        print(task.result().status, end=\" \")\n",
    "\n",
    "\n",
    "await main()"
   ]
  },
  {
   "cell_type": "markdown",
   "metadata": {
    "slideshow": {
     "slide_type": "slide"
    }
   },
   "source": [
    "### Conclusion\n",
    "\n",
    "* there are different approaches to make your program run faster (multithreading, multiprocessing, async), so\n",
    "* Once you’ve decided that you should optimize your program, figuring out if your program is **CPU-bound** or **I/O-bound** is a great next step.\n",
    "* For I/O-bound problems, there’s a general rule of thumb in the Python community: “Use asyncio when you can, threading when you must.”\n",
    "* async approach effectively utilizes resources when task is IO bound, it will work more effective under heavy load.\n",
    "* not all IO libraries have async analogues, using both async and sync code together may degrade system performance to sync level.\n",
    "* you can use async model outside of your application by using external tools like [celery](https://docs.celeryproject.org/en/stable/getting-started/introduction.html)"
   ]
  },
  {
   "cell_type": "markdown",
   "metadata": {},
   "source": [
    "![](https://files.realpython.com/media/Screen_Shot_2018-10-17_at_3.18.44_PM.c02792872031.jpg)"
   ]
  },
  {
   "cell_type": "markdown",
   "metadata": {
    "slideshow": {
     "slide_type": "slide"
    }
   },
   "source": [
    "### Materials\n",
    "#### Documentation:\n",
    "* [Concurrent Execution in python](https://docs.python.org/3/library/concurrency.html)\n",
    "* [concurrent.futures](https://docs.python.org/3/library/concurrent.futures.html)\n",
    "* [multiprocessing ](https://docs.python.org/3/library/multiprocessing.html)\n",
    "* [asyncio](https://docs.python.org/3/library/asyncio.html)\n",
    "* [Celery](https://docs.celeryproject.org/en/stable/getting-started/introduction.html)\n",
    "####  Videos to watch\n",
    "* [McDonalds и Python](https://www.youtube.com/watch?v=b3iXdDmXm7s&t=167s&ab_channel=%D0%94%D0%B8%D0%B4%D0%B6%D0%B8%D1%82%D0%B0%D0%BB%D0%B8%D0%B7%D0%B8%D1%80%D1%83%D0%B9%21)\n",
    "* [Многопроцессность, многопоточность, асинхронность в Python](https://www.youtube.com/watch?v=JIp14T9bvvc&ab_channel=%D0%94%D0%B8%D0%B4%D0%B6%D0%B8%D1%82%D0%B0%D0%BB%D0%B8%D0%B7%D0%B8%D1%80%D1%83%D0%B9%21)\n",
    "* [Многопоточность и GIL](https://www.youtube.com/watch?v=nR8WhdcRJwM&ab_channel=ComputerScienceCenter)\n",
    "* [GIL в Python: зачем он нужен и как с этим жить](https://www.youtube.com/watch?v=AWX4JnAnjBE&ab_channel=MoscowPython)\n",
    "* [Андрей Светлов: \"Подводные камни asyncio\"](https://www.youtube.com/watch?v=GLN_xo4Awcc&ab_channel=PiterPy)\n",
    "#### Real python ultimate guides\n",
    "* [Speed Up Your Python Program With Concurrency](https://realpython.com/python-concurrency/)\n",
    "* [Async IO in Python: A Complete Walkthrough](https://realpython.com/async-io-python/)\n",
    "#### Others\n",
    "* [Асинхронное программирование в Python](https://tproger.ru/translations/asynchronous-programming-in-python/)\n",
    "* [Зачем, когда и как использовать multithreading и multiprocessing в Python](https://habr.com/ru/company/otus/blog/501056/)\n",
    "* [Asynchronous programming. Python3.5+](https://luminousmen.com/post/asynchronous-programming-python3.5)\n",
    "* [How does asyncio work?](https://stackoverflow.com/questions/49005651/how-does-asyncio-actually-work/51116910#51116910)\n",
    "* [Concurrent computing (by Andrey Solomatin)](https://github.com/Cjkjvfnby/presentation-async/blob/master/src/main/asciidoc/presentation.adoc)"
   ]
  },
  {
   "cell_type": "markdown",
   "metadata": {
    "slideshow": {
     "slide_type": "slide"
    }
   },
   "source": [
    "### Homework\n",
    "Ваша задача спарсить информацию о компаниях, находящихся в индексе S&P 500 с данного сайта: <br>\n",
    "https://markets.businessinsider.com/index/components/s&p_500\n",
    "\n",
    "Для каждой компании собрать следующую информацию:\n",
    "* Текущая стоимость в рублях (конвертацию производить по текущему курсу, взятому с сайта [центробанка РФ](http://www.cbr.ru/development/sxml/))\n",
    "* Код компании (справа от названия компании на странице компании)\n",
    "* P/E компании (информация находится справа от графика на странице компании)\n",
    "* Годовой рост/падение компании в процентах (основная таблица)\n",
    "* Высчитать какую прибыль принесли бы акции компании (в процентах), если бы они были куплены на уровне 52 Week Low и проданы на уровне 52 Week High (справа от графика на странице компании)\n",
    "\n",
    "Сохранить итоговую информацию в 4 JSON файла:\n",
    "1. Топ 10 компаний с самими дорогими акциями в рублях.\n",
    "2. Топ 10 компаний с самым низким показателем P/E.\n",
    "3. Топ 10 компаний, которые показали самый высокий рост за последний год\n",
    "4. Топ 10 комппаний, которые принесли бы наибольшую прибыль, если бы были куплены на самом минимуме и проданы на самом максимуме за последний год.\n",
    "<br>Пример формата:\n",
    "```\n",
    "[\n",
    "{\n",
    "    \"code\": \"MMM\",\n",
    "    \"name\": \"3M CO.\",\n",
    "    \"price\" | \"P/E\" | \"growth\" | \"potential profit\" : value,\n",
    "},\n",
    "...\n",
    "]\n",
    "```\n",
    "<br>**P.S. по-максимуму использовать возможности параллелизма и асинхронности.** \n",
    "<br>\n",
    "* bs4\n",
    "* aiohttp"
   ]
  }
 ],
 "metadata": {
  "celltoolbar": "Слайд-шоу",
  "kernelspec": {
   "display_name": "Python 3.8.10 64-bit",
   "language": "python",
   "name": "python3"
  },
  "language_info": {
   "codemirror_mode": {
    "name": "ipython",
    "version": 3
   },
   "file_extension": ".py",
   "mimetype": "text/x-python",
   "name": "python",
   "nbconvert_exporter": "python",
   "pygments_lexer": "ipython3",
   "version": "3.8.10"
  },
  "vscode": {
   "interpreter": {
    "hash": "916dbcbb3f70747c44a77c7bcd40155683ae19c65e1c03b4aa3499c5328201f1"
   }
  }
 },
 "nbformat": 4,
 "nbformat_minor": 4
}
