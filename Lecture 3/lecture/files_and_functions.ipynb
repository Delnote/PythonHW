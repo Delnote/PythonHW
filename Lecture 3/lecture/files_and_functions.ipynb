{
 "cells": [
  {
   "cell_type": "markdown",
   "metadata": {
    "colab_type": "text",
    "id": "Q0cbFpmlfB0q",
    "slideshow": {
     "slide_type": "slide"
    }
   },
   "source": [
    "# Files and Functions"
   ]
  },
  {
   "cell_type": "markdown",
   "metadata": {
    "colab_type": "text",
    "id": "LvZgIY4pfB0s",
    "slideshow": {
     "slide_type": "slide"
    }
   },
   "source": [
    "* File-like objects\n",
    "* Functions\n",
    "* Arguments\n",
    "* Namespaces\n",
    "* Scopes (LEGB)\n",
    "* Enclosing"
   ]
  },
  {
   "cell_type": "markdown",
   "metadata": {
    "colab_type": "text",
    "id": "EGIWwVuTLA_y",
    "slideshow": {
     "slide_type": "slide"
    }
   },
   "source": [
    "# Files, File-like object and how to use them"
   ]
  },
  {
   "cell_type": "markdown",
   "metadata": {
    "colab_type": "text",
    "id": "oxD9VVa7LA_4",
    "slideshow": {
     "slide_type": "subslide"
    }
   },
   "source": [
    "### Function open\n",
    "\n",
    "open() opens file and returns a corresponding file object. Accepts one required argument - path to a file."
   ]
  },
  {
   "cell_type": "code",
   "execution_count": 263,
   "metadata": {
    "colab": {},
    "colab_type": "code",
    "id": "O6fmeoXmLBAG",
    "outputId": "e9bb87e3-68d0-44e3-9bdb-2eb08a404f72",
    "slideshow": {
     "slide_type": "fragment"
    }
   },
   "outputs": [
    {
     "data": {
      "text/plain": [
       "<_io.TextIOWrapper name='./data/test.txt' mode='r' encoding='UTF-8'>"
      ]
     },
     "execution_count": 263,
     "metadata": {},
     "output_type": "execute_result"
    }
   ],
   "source": [
    "open('./data/test.txt')"
   ]
  },
  {
   "cell_type": "markdown",
   "metadata": {
    "colab_type": "text",
    "id": "Yb-yXofnLBAU",
    "slideshow": {
     "slide_type": "subslide"
    }
   },
   "source": [
    "```python\n",
    "open('/path/to/file', \"wb\", encoding=\"utf-8\")\n",
    "```\n",
    "open have a lot of arguments - a few important:\n",
    "* __mode__ - how to open file:\n",
    "  * \"r\", \"w\", \"x\", \"a\", \"+\"\n",
    "  * \"b\", \"t\".\n",
    "* for text files:\n",
    "  * __encoding__\n",
    " "
   ]
  },
  {
   "cell_type": "markdown",
   "metadata": {
    "slideshow": {
     "slide_type": "notes"
    }
   },
   "source": [
    "- default mode for `open` will be `r` (or `rt` - text mode is also default value)\n",
    "- `open` has more parameters - `open(file, mode='r', buffering=-1, encoding=None, errors=None, newline=None, closefd=True, opener=None)`"
   ]
  },
  {
   "cell_type": "markdown",
   "metadata": {
    "slideshow": {
     "slide_type": "subslide"
    }
   },
   "source": [
    "- r opens the file for reading (the default).\n",
    "- w opens or creates the file for writing, deleting (truncating) its contents first.\n",
    "- a opens or creates the file for writing, but appends to the end instead of truncating.\n",
    "- x creates and opens a new file for writing; it cannot open existing files.\n",
    "- \\+ opens the file for both read and write (always appends to some other flag).\n",
    "- t works with the file in text mode (the default)\n",
    "- b works with the file in binary mode"
   ]
  },
  {
   "cell_type": "code",
   "execution_count": null,
   "metadata": {
    "colab_type": "text",
    "id": "Qr0FfBf8LBAZ",
    "slideshow": {
     "slide_type": "subslide"
    }
   },
   "outputs": [],
   "source": [
    "                     | r   r+   w   w+   a   a+   x   x+\n",
    "-------------------------------------------------------------\n",
    "allow read           | +   +        +        +        +\n",
    "allow write          |     +    +   +    +   +    +   +\n",
    "create new file      |          +   +    +   +    +   +\n",
    "open existing file   | +   +    +   +    +   +\n",
    "erase file contents  |          +   +\n",
    "write after seek     |     +    +   +             +   +\n",
    "position at start    | +   +    +   +             +   +\n",
    "position at end      |                   +   +\n",
    "\n",
    "\n",
    "read - reading from file is allowed\n",
    "write - writing to file is allowed\n",
    "create - file is created if it does not exist yet\n",
    "trunctate - during opening of the file it is made empty (all content of the file is erased)\n",
    "position at start - after file is opened, initial position is set to the start of the file\n",
    "position at end - after file is opened, initial position is set to the end of the file\n"
   ]
  },
  {
   "cell_type": "markdown",
   "metadata": {
    "slideshow": {
     "slide_type": "subslide"
    }
   },
   "source": [
    "Files opened in **binary** mode return contents as bytes objects without any decoding.  \n",
    "\n",
    "In **text** mode the contents of the file are returned as str, the bytes having been first decoded using a platform-dependent encoding or using the specified encoding if given.\n",
    "```\n",
    ">>> import locale\n",
    ">>> locale.getpreferredencoding()\n",
    "'UTF-8'\n",
    "```"
   ]
  },
  {
   "cell_type": "markdown",
   "metadata": {
    "colab_type": "text",
    "id": "dQtq6u9hLBAq",
    "slideshow": {
     "slide_type": "slide"
    }
   },
   "source": [
    "### Methods to works with files:"
   ]
  },
  {
   "cell_type": "markdown",
   "metadata": {
    "colab_type": "text",
    "id": "UQHxBMdBLBAv",
    "slideshow": {
     "slide_type": "subslide"
    }
   },
   "source": [
    "#### Reading"
   ]
  },
  {
   "cell_type": "markdown",
   "metadata": {
    "colab_type": "text",
    "id": "yOLQePPbLBAw",
    "slideshow": {
     "slide_type": "fragment"
    }
   },
   "source": [
    "Method __read__ reads no more than n symbols from file"
   ]
  },
  {
   "cell_type": "code",
   "execution_count": 142,
   "metadata": {
    "colab": {},
    "colab_type": "code",
    "id": "vEQre9P8LBAz",
    "outputId": "fbb0ff40-232b-4e1b-fe52-78bfdcbca691",
    "slideshow": {
     "slide_type": "fragment"
    }
   },
   "outputs": [
    {
     "data": {
      "text/plain": [
       "'line1\\nl'"
      ]
     },
     "execution_count": 142,
     "metadata": {},
     "output_type": "execute_result"
    }
   ],
   "source": [
    "file_handle = open('./data/test.txt')\n",
    "file_handle.read(7)"
   ]
  },
  {
   "cell_type": "markdown",
   "metadata": {
    "colab_type": "text",
    "id": "A5HQRSqCLBA_",
    "slideshow": {
     "slide_type": "fragment"
    }
   },
   "source": [
    "__readline__ and __readlines__ reads line or all lines from file.\n"
   ]
  },
  {
   "cell_type": "code",
   "execution_count": 143,
   "metadata": {
    "colab": {},
    "colab_type": "code",
    "id": "T2jynpYFLBBB",
    "outputId": "ccaa96ba-ede8-491d-ff35-e6c6d37887b8",
    "slideshow": {
     "slide_type": "fragment"
    }
   },
   "outputs": [
    {
     "name": "stdout",
     "output_type": "stream",
     "text": [
      "6\n"
     ]
    },
    {
     "data": {
      "text/plain": [
       "['line2\\n', 'line3\\n']"
      ]
     },
     "execution_count": 143,
     "metadata": {},
     "output_type": "execute_result"
    }
   ],
   "source": [
    "file_handle = open('./data/test.txt')\n",
    "print(len(file_handle.readline()))\n",
    "\n",
    "file_handle.readlines()"
   ]
  },
  {
   "cell_type": "markdown",
   "metadata": {
    "slideshow": {
     "slide_type": "notes"
    }
   },
   "source": [
    "- `readlines` will read all file into memory\n",
    "- `for line in file` will read only one line at a time"
   ]
  },
  {
   "cell_type": "markdown",
   "metadata": {
    "slideshow": {
     "slide_type": "subslide"
    }
   },
   "source": [
    "#### iterate line by line"
   ]
  },
  {
   "cell_type": "code",
   "execution_count": null,
   "metadata": {
    "slideshow": {
     "slide_type": "fragment"
    }
   },
   "outputs": [],
   "source": [
    "for line in file_handle:\n",
    "    print(line, end='')"
   ]
  },
  {
   "cell_type": "markdown",
   "metadata": {
    "colab_type": "text",
    "id": "1VuVM0-iLBBP",
    "slideshow": {
     "slide_type": "subslide"
    }
   },
   "source": [
    "### Write"
   ]
  },
  {
   "cell_type": "code",
   "execution_count": 128,
   "metadata": {
    "colab": {},
    "colab_type": "code",
    "id": "2S9YzyFtLBBS",
    "outputId": "1de8bc99-41f6-4855-b503-c40f8f0c5f1a",
    "slideshow": {
     "slide_type": "fragment"
    }
   },
   "outputs": [
    {
     "data": {
      "text/plain": [
       "15"
      ]
     },
     "execution_count": 128,
     "metadata": {},
     "output_type": "execute_result"
    }
   ],
   "source": [
    "file_handle = open(\"./data/example.txt\", \"w\")\n",
    "file_handle.write('someinformation')"
   ]
  },
  {
   "cell_type": "markdown",
   "metadata": {
    "colab_type": "text",
    "id": "HqO-IUKrLBBi",
    "slideshow": {
     "slide_type": "fragment"
    }
   },
   "source": [
    "Write sequence of lines to the file. Remember to add new line char `\\n`"
   ]
  },
  {
   "cell_type": "code",
   "execution_count": 129,
   "metadata": {
    "colab": {},
    "colab_type": "code",
    "id": "HSHfO0s4LBBk",
    "outputId": "55631ff6-4e08-4eba-b483-cec9e8508fca",
    "slideshow": {
     "slide_type": "fragment"
    }
   },
   "outputs": [
    {
     "data": {
      "text/plain": [
       "['someinformationspamegg']"
      ]
     },
     "execution_count": 129,
     "metadata": {},
     "output_type": "execute_result"
    }
   ],
   "source": [
    "file_handle.writelines(['spam', 'egg'])\n",
    "file_handle.close()\n",
    "open(\"./data/example.txt\", \"r\").readlines()"
   ]
  },
  {
   "cell_type": "markdown",
   "metadata": {
    "colab_type": "text",
    "id": "zdZHxiwoLBBs",
    "slideshow": {
     "slide_type": "subslide"
    }
   },
   "source": [
    "##### some other methods"
   ]
  },
  {
   "cell_type": "code",
   "execution_count": 130,
   "metadata": {
    "colab": {},
    "colab_type": "code",
    "id": "loDDAfRTLBBv",
    "outputId": "046eb973-0b3f-46bb-e5c6-646b48a872de",
    "slideshow": {
     "slide_type": "fragment"
    }
   },
   "outputs": [
    {
     "data": {
      "text/plain": [
       "44"
      ]
     },
     "execution_count": 130,
     "metadata": {},
     "output_type": "execute_result"
    }
   ],
   "source": [
    "file_handle = open(\"./data/example.txt\", \"r+\")\n",
    "file_handle.fileno() # file descriptor"
   ]
  },
  {
   "cell_type": "code",
   "execution_count": 123,
   "metadata": {
    "colab": {},
    "colab_type": "code",
    "id": "8zP8aFhXLBB4",
    "outputId": "e15e41ef-79ad-4ec7-bcd4-22e5a5d8c381",
    "slideshow": {
     "slide_type": "fragment"
    }
   },
   "outputs": [
    {
     "data": {
      "text/plain": [
       "0"
      ]
     },
     "execution_count": 123,
     "metadata": {},
     "output_type": "execute_result"
    }
   ],
   "source": [
    "file_handle.tell() # file object’s current position in bytes"
   ]
  },
  {
   "cell_type": "code",
   "execution_count": null,
   "metadata": {
    "slideshow": {
     "slide_type": "fragment"
    }
   },
   "outputs": [],
   "source": [
    "file_handle.seek(8)"
   ]
  },
  {
   "cell_type": "code",
   "execution_count": 156,
   "metadata": {
    "colab": {},
    "colab_type": "code",
    "id": "6weWtl_nLBCN",
    "slideshow": {
     "slide_type": "fragment"
    }
   },
   "outputs": [],
   "source": [
    "file_handle.write(\"something unimportant\")\n",
    "file_handle.flush() # Flush the write buffers of the stream\n",
    "file_handle.close()"
   ]
  },
  {
   "cell_type": "markdown",
   "metadata": {
    "colab_type": "text",
    "id": "i0UWuQcALBCX",
    "slideshow": {
     "slide_type": "subslide"
    }
   },
   "source": [
    "### Remember to close file! Always!"
   ]
  },
  {
   "cell_type": "markdown",
   "metadata": {
    "colab_type": "text",
    "id": "btEE_MLkLBCa",
    "slideshow": {
     "slide_type": "fragment"
    }
   },
   "source": [
    "And to do it in convenient way:"
   ]
  },
  {
   "cell_type": "code",
   "execution_count": 157,
   "metadata": {
    "colab": {},
    "colab_type": "code",
    "id": "vog3kxJmLBCe",
    "slideshow": {
     "slide_type": "fragment"
    }
   },
   "outputs": [],
   "source": [
    "with open(\"./data/example.txt\", \"r+\") as ouf:\n",
    "    for line in ouf:\n",
    "        print(line.strip())\n",
    "        \n",
    "with open(\"/file1\", \"r+\") as first, open(\"/file2\", \"w+\") as second:\n",
    "    ..."
   ]
  },
  {
   "cell_type": "markdown",
   "metadata": {
    "slideshow": {
     "slide_type": "slide"
    }
   },
   "source": [
    "### What we have learned\n",
    "* how to open file\n",
    "* how to work with file\n",
    "* what is file-like object"
   ]
  },
  {
   "cell_type": "markdown",
   "metadata": {
    "slideshow": {
     "slide_type": "slide"
    }
   },
   "source": [
    "## Functions"
   ]
  },
  {
   "cell_type": "markdown",
   "metadata": {
    "slideshow": {
     "slide_type": "fragment"
    }
   },
   "source": [
    "The keyword ```def``` introduces a function definition. It must be followed by the function name and the parenthesized list of formal parameters. The statements that form the body of the function start at the next line, and must be indented."
   ]
  },
  {
   "cell_type": "code",
   "execution_count": 16,
   "metadata": {
    "slideshow": {
     "slide_type": "fragment"
    }
   },
   "outputs": [],
   "source": [
    "def funny_function():\n",
    "    \"\"\"\"\"\"\n",
    "    ...\n",
    "    return 'to_the_blue_lagoon'"
   ]
  },
  {
   "cell_type": "code",
   "execution_count": 17,
   "metadata": {
    "slideshow": {
     "slide_type": "subslide"
    }
   },
   "outputs": [
    {
     "data": {
      "text/plain": [
       "'to_the_blue_lagoon'"
      ]
     },
     "execution_count": 17,
     "metadata": {},
     "output_type": "execute_result"
    }
   ],
   "source": [
    "funny_function()"
   ]
  },
  {
   "cell_type": "code",
   "execution_count": 18,
   "metadata": {
    "scrolled": true,
    "slideshow": {
     "slide_type": "fragment"
    }
   },
   "outputs": [
    {
     "data": {
      "text/plain": [
       "<function __main__.funny_function()>"
      ]
     },
     "execution_count": 18,
     "metadata": {},
     "output_type": "execute_result"
    }
   ],
   "source": [
    "funny_function"
   ]
  },
  {
   "cell_type": "code",
   "execution_count": 20,
   "metadata": {
    "slideshow": {
     "slide_type": "subslide"
    }
   },
   "outputs": [
    {
     "data": {
      "text/plain": [
       "['__annotations__',\n",
       " '__call__',\n",
       " '__class__',\n",
       " '__closure__',\n",
       " '__code__',\n",
       " '__defaults__',\n",
       " '__delattr__',\n",
       " '__dict__',\n",
       " '__dir__',\n",
       " '__doc__',\n",
       " '__eq__',\n",
       " '__format__',\n",
       " '__ge__',\n",
       " '__get__',\n",
       " '__getattribute__',\n",
       " '__globals__',\n",
       " '__gt__',\n",
       " '__hash__',\n",
       " '__init__',\n",
       " '__init_subclass__',\n",
       " '__kwdefaults__',\n",
       " '__le__',\n",
       " '__lt__',\n",
       " '__module__',\n",
       " '__name__',\n",
       " '__ne__',\n",
       " '__new__',\n",
       " '__qualname__',\n",
       " '__reduce__',\n",
       " '__reduce_ex__',\n",
       " '__repr__',\n",
       " '__setattr__',\n",
       " '__sizeof__',\n",
       " '__str__',\n",
       " '__subclasshook__']"
      ]
     },
     "execution_count": 20,
     "metadata": {},
     "output_type": "execute_result"
    }
   ],
   "source": [
    "dir(funny_function) # __dict__"
   ]
  },
  {
   "cell_type": "markdown",
   "metadata": {
    "slideshow": {
     "slide_type": "subslide"
    }
   },
   "source": [
    "### Naming constrains\n",
    "- latin letters \n",
    "- underscore `_`\n",
    "- digits 0-9, __but no at the begging!__"
   ]
  },
  {
   "cell_type": "code",
   "execution_count": 21,
   "metadata": {
    "slideshow": {
     "slide_type": "fragment"
    }
   },
   "outputs": [
    {
     "ename": "SyntaxError",
     "evalue": "invalid syntax (<ipython-input-21-735460777140>, line 1)",
     "output_type": "error",
     "traceback": [
      "\u001b[0;36m  File \u001b[0;32m\"<ipython-input-21-735460777140>\"\u001b[0;36m, line \u001b[0;32m1\u001b[0m\n\u001b[0;31m    def 1foo():\u001b[0m\n\u001b[0m        ^\u001b[0m\n\u001b[0;31mSyntaxError\u001b[0m\u001b[0;31m:\u001b[0m invalid syntax\n"
     ]
    }
   ],
   "source": [
    "def 1foo():\n",
    "    pass"
   ]
  },
  {
   "cell_type": "markdown",
   "metadata": {
    "slideshow": {
     "slide_type": "slide"
    }
   },
   "source": [
    "__return__ could be omitted. Be default returns None"
   ]
  },
  {
   "cell_type": "code",
   "execution_count": 5,
   "metadata": {
    "slideshow": {
     "slide_type": "fragment"
    }
   },
   "outputs": [
    {
     "name": "stdout",
     "output_type": "stream",
     "text": [
      "(1, 2, 3)\n"
     ]
    }
   ],
   "source": [
    "def foo():\n",
    "    a = 1, 2, 3\n",
    "    return 1, 2, 3\n",
    "\n",
    "print(foo())"
   ]
  },
  {
   "cell_type": "markdown",
   "metadata": {
    "slideshow": {
     "slide_type": "notes"
    }
   },
   "source": [
    "- instead of multiple values return - return a tuple"
   ]
  },
  {
   "cell_type": "code",
   "execution_count": 6,
   "metadata": {
    "scrolled": true,
    "slideshow": {
     "slide_type": "fragment"
    }
   },
   "outputs": [
    {
     "name": "stdout",
     "output_type": "stream",
     "text": [
      "(1, 2, 3)\n",
      "None\n"
     ]
    }
   ],
   "source": [
    "print(print(foo()))"
   ]
  },
  {
   "cell_type": "markdown",
   "metadata": {
    "slideshow": {
     "slide_type": "slide"
    }
   },
   "source": [
    "Functions could have several __return__"
   ]
  },
  {
   "cell_type": "code",
   "execution_count": 26,
   "metadata": {
    "slideshow": {
     "slide_type": "fragment"
    }
   },
   "outputs": [
    {
     "name": "stdout",
     "output_type": "stream",
     "text": [
      "give you up\n",
      "run around and desert you\n"
     ]
    }
   ],
   "source": [
    "def never_gonna(what):\n",
    "    if what == 1:\n",
    "        return 'give you up'\n",
    "    if what == 2:\n",
    "        return 'let you down'\n",
    "    return 'run around and desert you'\n",
    "    return \"You wouldn't get this from any other guy\"\n",
    "    \n",
    "print(never_gonna(1))\n",
    "print(never_gonna(10))"
   ]
  },
  {
   "cell_type": "markdown",
   "metadata": {
    "slideshow": {
     "slide_type": "subslide"
    }
   },
   "source": [
    "For documentation use multi-line string literals"
   ]
  },
  {
   "cell_type": "code",
   "execution_count": 29,
   "metadata": {
    "slideshow": {
     "slide_type": "fragment"
    }
   },
   "outputs": [],
   "source": [
    "def creep():\n",
    "    \"\"\"I wish I was special\"\"\"\n",
    "    return \"sorry\""
   ]
  },
  {
   "cell_type": "markdown",
   "metadata": {
    "slideshow": {
     "slide_type": "notes"
    }
   },
   "source": [
    "- docstring is just a string - you can use single or double quotes\n",
    "- docstring should be a first line right after function declaration"
   ]
  },
  {
   "cell_type": "markdown",
   "metadata": {
    "slideshow": {
     "slide_type": "subslide"
    }
   },
   "source": [
    "How to reveal documentation?"
   ]
  },
  {
   "cell_type": "code",
   "execution_count": 30,
   "metadata": {
    "slideshow": {
     "slide_type": "fragment"
    }
   },
   "outputs": [
    {
     "data": {
      "text/plain": [
       "'I wish I was special'"
      ]
     },
     "execution_count": 30,
     "metadata": {},
     "output_type": "execute_result"
    }
   ],
   "source": [
    "creep.__doc__\n"
   ]
  },
  {
   "cell_type": "code",
   "execution_count": 31,
   "metadata": {
    "slideshow": {
     "slide_type": "fragment"
    }
   },
   "outputs": [
    {
     "name": "stdout",
     "output_type": "stream",
     "text": [
      "Help on function creep in module __main__:\n",
      "\n",
      "creep()\n",
      "    I wish I was special\n",
      "\n"
     ]
    }
   ],
   "source": [
    "help(creep)"
   ]
  },
  {
   "cell_type": "markdown",
   "metadata": {
    "slideshow": {
     "slide_type": "slide"
    }
   },
   "source": [
    "### Arguments"
   ]
  },
  {
   "cell_type": "markdown",
   "metadata": {
    "slideshow": {
     "slide_type": "subslide"
    }
   },
   "source": [
    "#### Positional arguments"
   ]
  },
  {
   "cell_type": "code",
   "execution_count": 28,
   "metadata": {
    "scrolled": true,
    "slideshow": {
     "slide_type": "fragment"
    }
   },
   "outputs": [
    {
     "data": {
      "text/plain": [
       "9.5"
      ]
     },
     "execution_count": 28,
     "metadata": {},
     "output_type": "execute_result"
    }
   ],
   "source": [
    "def avg(a, b):\n",
    "    return (a+b)/2\n",
    "\n",
    "avg(10, 9)"
   ]
  },
  {
   "cell_type": "markdown",
   "metadata": {
    "slideshow": {
     "slide_type": "subslide"
    }
   },
   "source": [
    "#### Keyword arguments"
   ]
  },
  {
   "cell_type": "code",
   "execution_count": 46,
   "metadata": {
    "slideshow": {
     "slide_type": "fragment"
    }
   },
   "outputs": [
    {
     "name": "stdout",
     "output_type": "stream",
     "text": [
      "10 scoop(s) with chocolate and syrup toping\n",
      "3 scoop(s) with strawberries and bananas and nut toping\n",
      "1 scoop(s) with vanilla and KETCHUP??!?!? toping\n"
     ]
    }
   ],
   "source": [
    "def order_an_ice_cream(scoop, toping=\"syrup\", flavor=\"chocolate\"):\n",
    "    return \"{} scoop(s) with {} and {} toping\".format(\n",
    "        scoop, flavor, toping\n",
    "    )\n",
    "\n",
    "\n",
    "print(order_an_ice_cream(10))\n",
    "print(order_an_ice_cream(3, \"nut\", \"strawberries and bananas\"))\n",
    "print(order_an_ice_cream(scoop=1, toping=\"KETCHUP??!?!?\", flavor=\"vanilla\"))"
   ]
  },
  {
   "cell_type": "code",
   "execution_count": 24,
   "metadata": {
    "scrolled": false,
    "slideshow": {
     "slide_type": "fragment"
    }
   },
   "outputs": [
    {
     "ename": "SyntaxError",
     "evalue": "positional argument follows keyword argument (<ipython-input-24-1eaced7ef92e>, line 1)",
     "output_type": "error",
     "traceback": [
      "\u001b[0;36m  File \u001b[0;32m\"<ipython-input-24-1eaced7ef92e>\"\u001b[0;36m, line \u001b[0;32m1\u001b[0m\n\u001b[0;31m    print(order_an_ice_cream(3, toping=\"nut\", \"strawberries and bananas\"))\u001b[0m\n\u001b[0m                                             ^\u001b[0m\n\u001b[0;31mSyntaxError\u001b[0m\u001b[0;31m:\u001b[0m positional argument follows keyword argument\n"
     ]
    }
   ],
   "source": [
    "order_an_ice_cream(3, toping=\"nut\", \"strawberries and bananas\")"
   ]
  },
  {
   "cell_type": "markdown",
   "metadata": {
    "slideshow": {
     "slide_type": "slide"
    }
   },
   "source": [
    "### Default arguments initialization"
   ]
  },
  {
   "cell_type": "code",
   "execution_count": 7,
   "metadata": {
    "scrolled": false,
    "slideshow": {
     "slide_type": "fragment"
    }
   },
   "outputs": [
    {
     "name": "stdout",
     "output_type": "stream",
     "text": [
      "[1]\n",
      "[1, 2]\n",
      "[1, 2, 3]\n",
      "[1]\n",
      "[1, 2, 3, 1]\n"
     ]
    }
   ],
   "source": [
    "def foo(a, lst=[]):\n",
    "    \n",
    "    lst.append(a)\n",
    "    return lst\n",
    "\n",
    "\n",
    "print(foo(1))\n",
    "print(foo(2))\n",
    "print(foo(3))\n",
    "print(foo(1, []))\n",
    "print(foo(1))"
   ]
  },
  {
   "cell_type": "markdown",
   "metadata": {
    "slideshow": {
     "slide_type": "fragment"
    }
   },
   "source": [
    "Question: when and how many times are default arguments initialized?"
   ]
  },
  {
   "cell_type": "markdown",
   "metadata": {
    "slideshow": {
     "slide_type": "subslide"
    }
   },
   "source": [
    "```def``` statement only gets executed once, when the function is defined"
   ]
  },
  {
   "cell_type": "code",
   "execution_count": 47,
   "metadata": {
    "slideshow": {
     "slide_type": "fragment"
    }
   },
   "outputs": [
    {
     "name": "stdout",
     "output_type": "stream",
     "text": [
      "[1]\n",
      "[2]\n",
      "[3]\n",
      "['q', 1]\n",
      "[2]\n"
     ]
    }
   ],
   "source": [
    "def foo(a, lst=None):\n",
    "    if lst is None:\n",
    "        lst = []\n",
    "        \n",
    "    lst.append(a)\n",
    "    return lst\n",
    "\n",
    "\n",
    "print(foo(1))\n",
    "print(foo(2))\n",
    "print(foo(3))\n",
    "print(foo(1, ['q']))\n",
    "print(foo(2))"
   ]
  },
  {
   "cell_type": "markdown",
   "metadata": {
    "slideshow": {
     "slide_type": "slide"
    }
   },
   "source": [
    "### Packing"
   ]
  },
  {
   "cell_type": "code",
   "execution_count": 1,
   "metadata": {
    "slideshow": {
     "slide_type": "fragment"
    }
   },
   "outputs": [],
   "source": [
    "def avg(*args):\n",
    "    print(type(args))\n",
    "    return sum(args)/len(args)"
   ]
  },
  {
   "cell_type": "markdown",
   "metadata": {
    "slideshow": {
     "slide_type": "notes"
    }
   },
   "source": [
    "- varagrs variable name can be anything - not just `args`/`kwargs`"
   ]
  },
  {
   "cell_type": "code",
   "execution_count": 2,
   "metadata": {
    "slideshow": {
     "slide_type": "fragment"
    }
   },
   "outputs": [
    {
     "name": "stdout",
     "output_type": "stream",
     "text": [
      "<class 'tuple'>\n"
     ]
    },
    {
     "data": {
      "text/plain": [
       "4.5"
      ]
     },
     "execution_count": 2,
     "metadata": {},
     "output_type": "execute_result"
    }
   ],
   "source": [
    "a = [i for i in range(10)]\n",
    "avg(*a)"
   ]
  },
  {
   "cell_type": "code",
   "execution_count": 3,
   "metadata": {
    "scrolled": true,
    "slideshow": {
     "slide_type": "fragment"
    }
   },
   "outputs": [
    {
     "name": "stdout",
     "output_type": "stream",
     "text": [
      "<class 'tuple'>\n"
     ]
    },
    {
     "ename": "ZeroDivisionError",
     "evalue": "division by zero",
     "output_type": "error",
     "traceback": [
      "\u001b[0;31m---------------------------------------------------------------------------\u001b[0m",
      "\u001b[0;31mZeroDivisionError\u001b[0m                         Traceback (most recent call last)",
      "\u001b[0;32m<ipython-input-3-c4655c352811>\u001b[0m in \u001b[0;36m<module>\u001b[0;34m\u001b[0m\n\u001b[0;32m----> 1\u001b[0;31m \u001b[0mavg\u001b[0m\u001b[0;34m(\u001b[0m\u001b[0;34m)\u001b[0m  \u001b[0;31m# function with varargs can be called without arguments at all\u001b[0m\u001b[0;34m\u001b[0m\u001b[0;34m\u001b[0m\u001b[0m\n\u001b[0m",
      "\u001b[0;32m<ipython-input-1-ab499d5ad571>\u001b[0m in \u001b[0;36mavg\u001b[0;34m(*args)\u001b[0m\n\u001b[1;32m      1\u001b[0m \u001b[0;32mdef\u001b[0m \u001b[0mavg\u001b[0m\u001b[0;34m(\u001b[0m\u001b[0;34m*\u001b[0m\u001b[0margs\u001b[0m\u001b[0;34m)\u001b[0m\u001b[0;34m:\u001b[0m\u001b[0;34m\u001b[0m\u001b[0;34m\u001b[0m\u001b[0m\n\u001b[1;32m      2\u001b[0m     \u001b[0mprint\u001b[0m\u001b[0;34m(\u001b[0m\u001b[0mtype\u001b[0m\u001b[0;34m(\u001b[0m\u001b[0margs\u001b[0m\u001b[0;34m)\u001b[0m\u001b[0;34m)\u001b[0m\u001b[0;34m\u001b[0m\u001b[0;34m\u001b[0m\u001b[0m\n\u001b[0;32m----> 3\u001b[0;31m     \u001b[0;32mreturn\u001b[0m \u001b[0msum\u001b[0m\u001b[0;34m(\u001b[0m\u001b[0margs\u001b[0m\u001b[0;34m)\u001b[0m\u001b[0;34m/\u001b[0m\u001b[0mlen\u001b[0m\u001b[0;34m(\u001b[0m\u001b[0margs\u001b[0m\u001b[0;34m)\u001b[0m\u001b[0;34m\u001b[0m\u001b[0;34m\u001b[0m\u001b[0m\n\u001b[0m",
      "\u001b[0;31mZeroDivisionError\u001b[0m: division by zero"
     ]
    }
   ],
   "source": [
    "avg()  # function with varargs can be called without arguments at all"
   ]
  },
  {
   "cell_type": "code",
   "execution_count": 17,
   "metadata": {
    "slideshow": {
     "slide_type": "skip"
    }
   },
   "outputs": [
    {
     "name": "stdout",
     "output_type": "stream",
     "text": [
      "<class 'tuple'>\n",
      "(1, 2, 4)\n",
      "1; 2; 4\n",
      "<class 'tuple'>\n",
      "(1,)\n"
     ]
    },
    {
     "data": {
      "text/plain": [
       "'1'"
      ]
     },
     "execution_count": 17,
     "metadata": {},
     "output_type": "execute_result"
    }
   ],
   "source": [
    "def foo_with_args(first, *args):\n",
    "    print(type(args))\n",
    "    arguments = (first,) + args\n",
    "    print(arguments)\n",
    "    return '; '.join(map(str, arguments))\n",
    "\n",
    "print(foo_with_args(1, 2, 4))\n",
    "foo_with_args(1)"
   ]
  },
  {
   "cell_type": "code",
   "execution_count": 4,
   "metadata": {
    "scrolled": true,
    "slideshow": {
     "slide_type": "subslide"
    }
   },
   "outputs": [
    {
     "name": "stdout",
     "output_type": "stream",
     "text": [
      "<class 'dict'>\n",
      "1 10 100\n",
      "<class 'dict'>\n",
      "1 10 100 ('param', True)\n",
      "<class 'dict'>\n",
      "1 10 100 ('param', True) ('not_param', False)\n"
     ]
    }
   ],
   "source": [
    "def foo_with_args_and_kwargs(first, *args, **kwargs):\n",
    "    print(type(kwargs))\n",
    "    return [first, *args, *((k, v) for k,v in kwargs.items())]\n",
    "\n",
    "\n",
    "print(*foo_with_args_and_kwargs(1, 10, 100))\n",
    "print(*foo_with_args_and_kwargs(1, 10, 100, **{'param': True}))\n",
    "\n",
    "some_dict = {'param': True, 'not_param': False}\n",
    "\n",
    "print(*foo_with_args_and_kwargs(1, 10, 100, **some_dict))"
   ]
  },
  {
   "cell_type": "markdown",
   "metadata": {
    "slideshow": {
     "slide_type": "notes"
    }
   },
   "source": [
    "- `args` - variable length list of positional arguments\n",
    "- `kwargs` - variable length list of keyword arguments"
   ]
  },
  {
   "cell_type": "markdown",
   "metadata": {
    "slideshow": {
     "slide_type": "slide"
    }
   },
   "source": [
    "### keyword only arguments\n",
    "\n",
    "\n",
    "To mark parameters as keyword-only, indicating the parameters must be passed by keyword argument, place an * in the arguments list just before the first keyword-only parameter."
   ]
  },
  {
   "cell_type": "code",
   "execution_count": 167,
   "metadata": {
    "scrolled": true,
    "slideshow": {
     "slide_type": "fragment"
    }
   },
   "outputs": [
    {
     "name": "stdout",
     "output_type": "stream",
     "text": [
      "(1, 'password=yeeea')\n"
     ]
    },
    {
     "ename": "TypeError",
     "evalue": "obey_me() takes 1 positional argument but 2 were given",
     "output_type": "error",
     "traceback": [
      "\u001b[0;31m-----------------------------------------------------\u001b[0m",
      "\u001b[0;31mTypeError\u001b[0m           Traceback (most recent call last)",
      "\u001b[0;32m<ipython-input-167-9ab327248936>\u001b[0m in \u001b[0;36m<module>\u001b[0;34m\u001b[0m\n\u001b[1;32m      3\u001b[0m \u001b[0;34m\u001b[0m\u001b[0m\n\u001b[1;32m      4\u001b[0m \u001b[0mprint\u001b[0m\u001b[0;34m(\u001b[0m\u001b[0mobey_me\u001b[0m\u001b[0;34m(\u001b[0m\u001b[0;36m1\u001b[0m\u001b[0;34m,\u001b[0m \u001b[0mpassword\u001b[0m\u001b[0;34m=\u001b[0m\u001b[0;34m'yeeea'\u001b[0m\u001b[0;34m)\u001b[0m\u001b[0;34m)\u001b[0m\u001b[0;34m\u001b[0m\u001b[0;34m\u001b[0m\u001b[0m\n\u001b[0;32m----> 5\u001b[0;31m \u001b[0mobey_me\u001b[0m\u001b[0;34m(\u001b[0m\u001b[0;36m1\u001b[0m\u001b[0;34m,\u001b[0m \u001b[0;34m'noooo'\u001b[0m\u001b[0;34m)\u001b[0m\u001b[0;34m\u001b[0m\u001b[0;34m\u001b[0m\u001b[0m\n\u001b[0m",
      "\u001b[0;31mTypeError\u001b[0m: obey_me() takes 1 positional argument but 2 were given"
     ]
    }
   ],
   "source": [
    "def obey_me(param, *, password=None):\n",
    "    return param, f'password={password}'\n",
    "\n",
    "print(obey_me(1, password='yeeea'))\n",
    "obey_me(1, 'noooo')"
   ]
  },
  {
   "cell_type": "markdown",
   "metadata": {
    "slideshow": {
     "slide_type": "subslide"
    }
   },
   "source": [
    "One more function attribute"
   ]
  },
  {
   "cell_type": "code",
   "execution_count": 169,
   "metadata": {
    "slideshow": {
     "slide_type": "fragment"
    }
   },
   "outputs": [
    {
     "data": {
      "text/plain": [
       "{'password': None}"
      ]
     },
     "execution_count": 169,
     "metadata": {},
     "output_type": "execute_result"
    }
   ],
   "source": [
    "obey_me.__kwdefaults__"
   ]
  },
  {
   "cell_type": "markdown",
   "metadata": {
    "slideshow": {
     "slide_type": "subslide"
    }
   },
   "source": [
    "Since python 3.8:\n",
    "\n",
    "Looking at this in a bit more detail, it is possible to mark certain parameters as positional-only. If positional-only, the parameters’ order matters, and the parameters cannot be passed by keyword. Positional-only parameters are placed before a `/` (forward-slash). The `/` is used to logically separate the positional-only parameters from the rest of the parameters. If there is no / in the function definition, there are no positional-only parameters.\n",
    "\n",
    "Parameters following the `/` may be positional-or-keyword or keyword-only.\n",
    "\n"
   ]
  },
  {
   "cell_type": "code",
   "execution_count": null,
   "metadata": {
    "slideshow": {
     "slide_type": "fragment"
    }
   },
   "outputs": [],
   "source": [
    "def f(pos1, pos2, /, pos_or_kwd, *, kwd1, kwd2):\n",
    "      -----------    ----------     ----------\n",
    "        |             |                  |\n",
    "        |        Positional or keyword   |\n",
    "        |                                - Keyword only\n",
    "         -- Positional only\n",
    "            "
   ]
  },
  {
   "cell_type": "code",
   "execution_count": 10,
   "metadata": {
    "slideshow": {
     "slide_type": "subslide"
    }
   },
   "outputs": [
    {
     "name": "stdout",
     "output_type": "stream",
     "text": [
      "4\n"
     ]
    },
    {
     "ename": "TypeError",
     "evalue": "calc_for_two_numbers() got some positional-only arguments passed as keyword arguments: 'x, y'",
     "output_type": "error",
     "traceback": [
      "\u001b[0;31m---------------------------------------------------------------------------\u001b[0m",
      "\u001b[0;31mTypeError\u001b[0m                                 Traceback (most recent call last)",
      "\u001b[0;32m<ipython-input-10-3ded213558b3>\u001b[0m in \u001b[0;36m<module>\u001b[0;34m\u001b[0m\n\u001b[1;32m     16\u001b[0m \u001b[0;34m\u001b[0m\u001b[0m\n\u001b[1;32m     17\u001b[0m \u001b[0mprint\u001b[0m\u001b[0;34m(\u001b[0m\u001b[0mcalc_for_two_numbers\u001b[0m\u001b[0;34m(\u001b[0m\u001b[0;36m2\u001b[0m\u001b[0;34m,\u001b[0m \u001b[0;36m2\u001b[0m\u001b[0;34m,\u001b[0m \u001b[0;34m'*'\u001b[0m\u001b[0;34m)\u001b[0m\u001b[0;34m)\u001b[0m\u001b[0;34m\u001b[0m\u001b[0;34m\u001b[0m\u001b[0m\n\u001b[0;32m---> 18\u001b[0;31m \u001b[0mcalc_for_two_numbers\u001b[0m\u001b[0;34m(\u001b[0m\u001b[0mx\u001b[0m\u001b[0;34m=\u001b[0m\u001b[0;36m2\u001b[0m\u001b[0;34m,\u001b[0m \u001b[0my\u001b[0m\u001b[0;34m=\u001b[0m\u001b[0;36m2\u001b[0m\u001b[0;34m,\u001b[0m \u001b[0moperator\u001b[0m\u001b[0;34m=\u001b[0m\u001b[0;34m'*'\u001b[0m\u001b[0;34m)\u001b[0m  \u001b[0;31m# invalid, will raise a TypeError\u001b[0m\u001b[0;34m\u001b[0m\u001b[0;34m\u001b[0m\u001b[0m\n\u001b[0m",
      "\u001b[0;31mTypeError\u001b[0m: calc_for_two_numbers() got some positional-only arguments passed as keyword arguments: 'x, y'"
     ]
    }
   ],
   "source": [
    "import operator\n",
    "\n",
    "\n",
    "OPERATORS = {\n",
    "    '+': operator.add,\n",
    "    '-': operator.sub,\n",
    "    '*': operator.mul,\n",
    "    '/': operator.floordiv,\n",
    "}\n",
    "\n",
    "\n",
    "def calc_for_two_numbers(x, y, /, operator='+'):\n",
    "    op = OPERATORS[operator]\n",
    "    return op(x, y)\n",
    "\n",
    "\n",
    "print(calc_for_two_numbers(2, 2, '*'))\n",
    "calc_for_two_numbers(x=2, y=2, operator='*')  # invalid, will raise a TypeError"
   ]
  },
  {
   "cell_type": "markdown",
   "metadata": {
    "slideshow": {
     "slide_type": "subslide"
    }
   },
   "source": [
    "### Callable"
   ]
  },
  {
   "cell_type": "markdown",
   "metadata": {
    "slideshow": {
     "slide_type": "fragment"
    }
   },
   "source": [
    "A callable is anything that can be called.   \n",
    "Call function means to call `__call__` method. `add(1, 2)` == `add.__call__(1, 2)`"
   ]
  },
  {
   "cell_type": "markdown",
   "metadata": {
    "slideshow": {
     "slide_type": "fragment"
    }
   },
   "source": [
    "* user-defined functions\n",
    "* built-in functions \n",
    "* methods of built-in objects\n",
    "* class objects\n",
    "* methods of class instances\n",
    "* all objects having a `__call__` method are callable"
   ]
  },
  {
   "cell_type": "markdown",
   "metadata": {
    "slideshow": {
     "slide_type": "fragment"
    }
   },
   "source": [
    "Defining function like ```def funcname(parameters):``` you actually creates new object with defined `__call__` method."
   ]
  },
  {
   "cell_type": "markdown",
   "metadata": {
    "slideshow": {
     "slide_type": "subslide"
    }
   },
   "source": [
    "### Check if objects is `callable`"
   ]
  },
  {
   "cell_type": "code",
   "execution_count": 7,
   "metadata": {
    "slideshow": {
     "slide_type": "fragment"
    }
   },
   "outputs": [
    {
     "name": "stdout",
     "output_type": "stream",
     "text": [
      "True False True\n"
     ]
    }
   ],
   "source": [
    "print(callable(len), callable(45), callable(callable))"
   ]
  },
  {
   "cell_type": "markdown",
   "metadata": {
    "slideshow": {
     "slide_type": "slide"
    }
   },
   "source": [
    "### Function attributes"
   ]
  },
  {
   "cell_type": "markdown",
   "metadata": {
    "slideshow": {
     "slide_type": "subslide"
    }
   },
   "source": [
    "- `__doc__` - documentation string\n",
    "`foo.__doc__`\n",
    "- `__name__` - function's name\n",
    "`foo.__name__ -> foo`\n",
    "- `__qualname__` - name showing the “path” from a module’s global scope\n",
    "`foo().__qualname__ -> foo.<locals>.bar`\n",
    "- `__module__` - The name of the module the function was defined in\n",
    "`foo.__module__ -> __main__`\n",
    "- `__code__` - The code object representing the compiled function body\n",
    "`foo.__code__ -> <code object foo at 0x103c257c0, file \"<ipython-input-3-3b449f066ddd>\", line 4>`\n",
    "- `__globals__` - A reference to the dictionary that holds the function’s global variables — the global namespace of the module in which the function was defined\n",
    "`foo.__globals__`"
   ]
  },
  {
   "cell_type": "markdown",
   "metadata": {
    "colab_type": "text",
    "id": "nm8Moh-MKLza",
    "slideshow": {
     "slide_type": "slide"
    }
   },
   "source": [
    "### SCOPES"
   ]
  },
  {
   "cell_type": "markdown",
   "metadata": {
    "colab_type": "text",
    "id": "oACkehfHKLzg",
    "slideshow": {
     "slide_type": "slide"
    }
   },
   "source": [
    "A namespace is a mapping from names to objects  \n",
    "There is absolutely no relation between names in different namespaces\n",
    "Namespace ~= dict\n",
    "<img src='./images/namespaces.png' style='float: right;width:40%'>"
   ]
  },
  {
   "cell_type": "markdown",
   "metadata": {
    "slideshow": {
     "slide_type": "subslide"
    }
   },
   "source": [
    "Namespaces are created at different moments and have different lifetimes.\n",
    "- namespace containing the built-in names is created when the Python interpreter starts up, and is never deleted\n",
    "- global namespace for a module is created when the module definition is read in; normally, module namespaces also last until the interpreter quits\n",
    "- local namespace for a function is created when the function is called, and deleted when the function returns or raises an exception"
   ]
  },
  {
   "cell_type": "markdown",
   "metadata": {
    "colab_type": "text",
    "id": "MRXs77MhKLzj",
    "slideshow": {
     "slide_type": "skip"
    }
   },
   "source": [
    "<img src='./images/python_namespace.png' style='float:right;width:70%;height:70%'>"
   ]
  },
  {
   "cell_type": "code",
   "execution_count": 34,
   "metadata": {
    "colab": {},
    "colab_type": "code",
    "id": "aepyBwqqKLzp",
    "outputId": "e4e7c71e-3797-497c-cb27-1a765b891065",
    "slideshow": {
     "slide_type": "skip"
    }
   },
   "outputs": [
    {
     "name": "stdout",
     "output_type": "stream",
     "text": [
      "spam and eggs\n",
      "spam and eggs\n",
      "4359780656 4359780656\n"
     ]
    }
   ],
   "source": [
    "spam = 'spam and eggs'\n",
    "eggs = spam\n",
    " \n",
    "print(spam)  # spam and eggs\n",
    "print(eggs)  # spam and eggs\n",
    "\n",
    "print(id(spam), id(eggs)) # both names point to the same object"
   ]
  },
  {
   "cell_type": "markdown",
   "metadata": {
    "colab_type": "text",
    "id": "xD5t00NgKLz2",
    "slideshow": {
     "slide_type": "slide"
    }
   },
   "source": [
    "### Enclosing and scope"
   ]
  },
  {
   "cell_type": "markdown",
   "metadata": {
    "colab_type": "text",
    "id": "xPoVyboCKLz5",
    "slideshow": {
     "slide_type": "subslide"
    }
   },
   "source": [
    "Enclosing – ability of a function to use variables that doesn't belong to it"
   ]
  },
  {
   "cell_type": "code",
   "execution_count": 13,
   "metadata": {
    "slideshow": {
     "slide_type": "fragment"
    }
   },
   "outputs": [
    {
     "name": "stdout",
     "output_type": "stream",
     "text": [
      "I'm inside foo\n",
      "I'm outside\n"
     ]
    }
   ],
   "source": [
    "def foo():\n",
    "    foo_variable = \"I'm inside foo\"\n",
    "    def bar():\n",
    "        print(foo_variable)\n",
    "        print(out_variable)\n",
    "    bar()\n",
    "    \n",
    "out_variable = \"I'm outside\"\n",
    "foo()"
   ]
  },
  {
   "cell_type": "markdown",
   "metadata": {
    "slideshow": {
     "slide_type": "notes"
    }
   },
   "source": [
    "- `bar()` has read only access to `foo_variable` and `out_variable`\n",
    "- functions have read only access to variables in higher scopes"
   ]
  },
  {
   "cell_type": "code",
   "execution_count": 14,
   "metadata": {
    "colab": {},
    "colab_type": "code",
    "id": "Y7QLEiXVKLz9",
    "outputId": "1a1225f6-5aa6-47d1-a848-cd34ba0dd7ad",
    "scrolled": true,
    "slideshow": {
     "slide_type": "fragment"
    }
   },
   "outputs": [
    {
     "ename": "NameError",
     "evalue": "name 'foo_variable' is not defined",
     "output_type": "error",
     "traceback": [
      "\u001b[0;31m---------------------------------------------------------------------------\u001b[0m",
      "\u001b[0;31mNameError\u001b[0m                                 Traceback (most recent call last)",
      "\u001b[0;32m<ipython-input-14-471fc12a559b>\u001b[0m in \u001b[0;36m<module>\u001b[0;34m\u001b[0m\n\u001b[1;32m      2\u001b[0m     \u001b[0mfoo_variable\u001b[0m \u001b[0;34m=\u001b[0m \u001b[0;34m\"I'm inside foo\"\u001b[0m\u001b[0;34m\u001b[0m\u001b[0;34m\u001b[0m\u001b[0m\n\u001b[1;32m      3\u001b[0m \u001b[0;34m\u001b[0m\u001b[0m\n\u001b[0;32m----> 4\u001b[0;31m \u001b[0mprint\u001b[0m\u001b[0;34m(\u001b[0m\u001b[0mfoo_variable\u001b[0m\u001b[0;34m)\u001b[0m \u001b[0;31m# raises a NameError exception\u001b[0m\u001b[0;34m\u001b[0m\u001b[0;34m\u001b[0m\u001b[0m\n\u001b[0m",
      "\u001b[0;31mNameError\u001b[0m: name 'foo_variable' is not defined"
     ]
    }
   ],
   "source": [
    "def foo():\n",
    "    foo_variable = \"I'm inside foo\"\n",
    "    \n",
    "print(foo_variable) # raises a NameError exception"
   ]
  },
  {
   "cell_type": "markdown",
   "metadata": {
    "slideshow": {
     "slide_type": "notes"
    }
   },
   "source": [
    "- python can't see `foo_variable` from outer function scoupe"
   ]
  },
  {
   "cell_type": "markdown",
   "metadata": {
    "colab_type": "text",
    "id": "VypVnTuBKL1E",
    "slideshow": {
     "slide_type": "slide"
    }
   },
   "source": [
    "### LEGB\n",
    "A scope is a textual region of a Python program where a namespace is directly accessible - reference to a name attempts to find the name in the namespace.\n",
    "- scope of a name is the region of a program in which that name has meaning"
   ]
  },
  {
   "cell_type": "markdown",
   "metadata": {
    "colab_type": "text",
    "id": "6uF7xPByKL1F",
    "slideshow": {
     "slide_type": "subslide"
    }
   },
   "source": [
    "#### Name lookup is going no more than in 4 scopes: local -> enclosing -> global and built-id\n",
    "\n",
    "<img src='./images/python_namespaces_legb.jpg' style='float: right'>\n"
   ]
  },
  {
   "cell_type": "markdown",
   "metadata": {
    "colab_type": "text",
    "id": "WS-x0f-QKL1I",
    "slideshow": {
     "slide_type": "subslide"
    }
   },
   "source": [
    "<div style='float:left;width:40%;font-size:25px'>\n",
    "<b>Local</b>– Names which are assigned within a function.\n",
    "\n",
    "<b>Enclosing</b> – Names which are assigned in a closure (function in a function)\n",
    "\n",
    "<b>Global</b> – Names which are assigned at the top-level of a module, for example on the top-level of your Python file\n",
    "\n",
    "<b>Built-in</b> – Names which are standard Python built-ins, such as open, import, print, return, Exception</div>\n",
    "\n",
    "<img src='./images/python_namespaces_code.jpg' style='float:right;width:60%' >\n"
   ]
  },
  {
   "cell_type": "markdown",
   "metadata": {
    "slideshow": {
     "slide_type": "notes"
    }
   },
   "source": [
    "- green - local\n",
    "- red - global\n",
    "- yellow - built-in\n",
    "- `eggs` in `Spam` class will be enclosing scope from `describe_meal` point of view"
   ]
  },
  {
   "cell_type": "code",
   "execution_count": 19,
   "metadata": {
    "scrolled": true,
    "slideshow": {
     "slide_type": "subslide"
    }
   },
   "outputs": [
    {
     "name": "stdout",
     "output_type": "stream",
     "text": [
      "inner_var 1\n",
      "var variable\n",
      "global_var 0\n",
      "print <built-in function print>\n"
     ]
    }
   ],
   "source": [
    "global_var = 0\n",
    "\n",
    "def func():\n",
    "    var = 'variable'\n",
    "    \n",
    "    def print_vars():\n",
    "        inner_var = 1 \n",
    "        print('inner_var', inner_var) # local\n",
    "        print('var', var) # enclosing\n",
    "        print('global_var', global_var) # global\n",
    "        print('print', print) # print function itself is in built-in\n",
    "\n",
    "    print_vars()\n",
    "\n",
    "func()"
   ]
  },
  {
   "cell_type": "markdown",
   "metadata": {
    "slideshow": {
     "slide_type": "subslide"
    }
   },
   "source": [
    "#### To see what is in scope"
   ]
  },
  {
   "cell_type": "code",
   "execution_count": 6,
   "metadata": {
    "collapsed": true,
    "slideshow": {
     "slide_type": "fragment"
    }
   },
   "outputs": [
    {
     "name": "stdout",
     "output_type": "stream",
     "text": [
      "{'arg': 'argument', 'inner_var': 1}\n",
      "{'__name__': '__main__', '__doc__': 'Automatically created module for IPython interactive environment', '__package__': None, '__loader__': None, '__spec__': None, '__builtin__': <module 'builtins' (built-in)>, '__builtins__': <module 'builtins' (built-in)>, '_ih': ['', 'def avg(*args):\\n    print(type(args))\\n    return sum(args)/len(args)', 'a = [i for i in range(10)]\\navg(*a)', 'avg()  # function with varargs can be called without arguments at all', \"def foo_with_args_and_kwargs(first, *args, **kwargs):\\n    print(type(kwargs))\\n    return [first, *args, *((k, v) for k,v in kwargs.items())]\\n\\n\\nprint(*foo_with_args_and_kwargs(1, 10, 100))\\nprint(*foo_with_args_and_kwargs(1, 10, 100, **{'param': True}))\\n\\nsome_dict = {'param': True, 'not_param': False}\\n\\nprint(*foo_with_args_and_kwargs(1, 10, 100, **some_dict))\", \"glabal_var = 0\\n\\ndef func():\\n    var = 'variable'\\n    \\n    def print_vars(arg):\\n        inner_var = 1\\n        \\n        print(locals()) # {'arg': 'argument', 'inner_var': 1}\\n        print(globals()) # {'__name__': '__main__', '__doc__' ..., 'glabal_var' : 0}\\n        \\n    print_vars('argument')\\n\\nfunc()\", \"global_var = 0\\n\\ndef func():\\n    var = 'variable'\\n    \\n    def print_vars(arg):\\n        inner_var = 1\\n        \\n        print(locals()) # {'arg': 'argument', 'inner_var': 1}\\n        print(globals()) # {'__name__': '__main__', '__doc__' ..., 'global_var' : 0}\\n        \\n    print_vars('argument')\\n\\nfunc()\"], '_oh': {2: 4.5}, '_dh': ['/Users/clamps/dev/python-exercises/spring_2022/lecture_03'], 'In': ['', 'def avg(*args):\\n    print(type(args))\\n    return sum(args)/len(args)', 'a = [i for i in range(10)]\\navg(*a)', 'avg()  # function with varargs can be called without arguments at all', \"def foo_with_args_and_kwargs(first, *args, **kwargs):\\n    print(type(kwargs))\\n    return [first, *args, *((k, v) for k,v in kwargs.items())]\\n\\n\\nprint(*foo_with_args_and_kwargs(1, 10, 100))\\nprint(*foo_with_args_and_kwargs(1, 10, 100, **{'param': True}))\\n\\nsome_dict = {'param': True, 'not_param': False}\\n\\nprint(*foo_with_args_and_kwargs(1, 10, 100, **some_dict))\", \"glabal_var = 0\\n\\ndef func():\\n    var = 'variable'\\n    \\n    def print_vars(arg):\\n        inner_var = 1\\n        \\n        print(locals()) # {'arg': 'argument', 'inner_var': 1}\\n        print(globals()) # {'__name__': '__main__', '__doc__' ..., 'glabal_var' : 0}\\n        \\n    print_vars('argument')\\n\\nfunc()\", \"global_var = 0\\n\\ndef func():\\n    var = 'variable'\\n    \\n    def print_vars(arg):\\n        inner_var = 1\\n        \\n        print(locals()) # {'arg': 'argument', 'inner_var': 1}\\n        print(globals()) # {'__name__': '__main__', '__doc__' ..., 'global_var' : 0}\\n        \\n    print_vars('argument')\\n\\nfunc()\"], 'Out': {2: 4.5}, 'get_ipython': <bound method InteractiveShell.get_ipython of <ipykernel.zmqshell.ZMQInteractiveShell object at 0x10e435b80>>, 'exit': <IPython.core.autocall.ZMQExitAutocall object at 0x10e47f4f0>, 'quit': <IPython.core.autocall.ZMQExitAutocall object at 0x10e47f4f0>, '_': 4.5, '__': '', '___': '', '_i': \"glabal_var = 0\\n\\ndef func():\\n    var = 'variable'\\n    \\n    def print_vars(arg):\\n        inner_var = 1\\n        \\n        print(locals()) # {'arg': 'argument', 'inner_var': 1}\\n        print(globals()) # {'__name__': '__main__', '__doc__' ..., 'glabal_var' : 0}\\n        \\n    print_vars('argument')\\n\\nfunc()\", '_ii': \"def foo_with_args_and_kwargs(first, *args, **kwargs):\\n    print(type(kwargs))\\n    return [first, *args, *((k, v) for k,v in kwargs.items())]\\n\\n\\nprint(*foo_with_args_and_kwargs(1, 10, 100))\\nprint(*foo_with_args_and_kwargs(1, 10, 100, **{'param': True}))\\n\\nsome_dict = {'param': True, 'not_param': False}\\n\\nprint(*foo_with_args_and_kwargs(1, 10, 100, **some_dict))\", '_iii': 'avg()  # function with varargs can be called without arguments at all', '_i1': 'def avg(*args):\\n    print(type(args))\\n    return sum(args)/len(args)', 'avg': <function avg at 0x10e523550>, '_i2': 'a = [i for i in range(10)]\\navg(*a)', 'a': [0, 1, 2, 3, 4, 5, 6, 7, 8, 9], '_2': 4.5, '_i3': 'avg()  # function with varargs can be called without arguments at all', '_i4': \"def foo_with_args_and_kwargs(first, *args, **kwargs):\\n    print(type(kwargs))\\n    return [first, *args, *((k, v) for k,v in kwargs.items())]\\n\\n\\nprint(*foo_with_args_and_kwargs(1, 10, 100))\\nprint(*foo_with_args_and_kwargs(1, 10, 100, **{'param': True}))\\n\\nsome_dict = {'param': True, 'not_param': False}\\n\\nprint(*foo_with_args_and_kwargs(1, 10, 100, **some_dict))\", 'foo_with_args_and_kwargs': <function foo_with_args_and_kwargs at 0x10e4cf5e0>, 'some_dict': {'param': True, 'not_param': False}, '_i5': \"glabal_var = 0\\n\\ndef func():\\n    var = 'variable'\\n    \\n    def print_vars(arg):\\n        inner_var = 1\\n        \\n        print(locals()) # {'arg': 'argument', 'inner_var': 1}\\n        print(globals()) # {'__name__': '__main__', '__doc__' ..., 'glabal_var' : 0}\\n        \\n    print_vars('argument')\\n\\nfunc()\", 'glabal_var': 0, 'func': <function func at 0x10e5f4a60>, '_i6': \"global_var = 0\\n\\ndef func():\\n    var = 'variable'\\n    \\n    def print_vars(arg):\\n        inner_var = 1\\n        \\n        print(locals()) # {'arg': 'argument', 'inner_var': 1}\\n        print(globals()) # {'__name__': '__main__', '__doc__' ..., 'global_var' : 0}\\n        \\n    print_vars('argument')\\n\\nfunc()\", 'global_var': 0}\n"
     ]
    }
   ],
   "source": [
    "global_var = 0\n",
    "\n",
    "def func():\n",
    "    var = 'variable'\n",
    "    \n",
    "    def print_vars(arg):\n",
    "        inner_var = 1\n",
    "        \n",
    "        print(locals()) # {'arg': 'argument', 'inner_var': 1}\n",
    "        print(globals()) # {'__name__': '__main__', '__doc__' ..., 'global_var' : 0}\n",
    "        \n",
    "    print_vars('argument')\n",
    "\n",
    "func()"
   ]
  },
  {
   "cell_type": "markdown",
   "metadata": {
    "colab_type": "text",
    "id": "t1szbJmWKL1N",
    "slideshow": {
     "slide_type": "subslide"
    }
   },
   "source": [
    "Functions is Python can access variables that are not in current scope. \n",
    "\n",
    "Important to remember: lookup is happens while functions is called.\n"
   ]
  },
  {
   "cell_type": "code",
   "execution_count": 58,
   "metadata": {
    "colab": {},
    "colab_type": "code",
    "id": "Pk7McQ8tKL1P",
    "outputId": "a42ffb9d-03d8-410a-a1a6-9389a4ed47e1",
    "slideshow": {
     "slide_type": "fragment"
    }
   },
   "outputs": [
    {
     "name": "stdout",
     "output_type": "stream",
     "text": [
      "0\n",
      "1\n",
      "2\n",
      "3\n",
      "4\n"
     ]
    }
   ],
   "source": [
    "def f():\n",
    "    print(i)\n",
    "\n",
    "for i in range(5):\n",
    "    f()"
   ]
  },
  {
   "cell_type": "markdown",
   "metadata": {
    "slideshow": {
     "slide_type": "subslide"
    }
   },
   "source": [
    "For assignment LEGB is not working"
   ]
  },
  {
   "cell_type": "code",
   "execution_count": 21,
   "metadata": {
    "slideshow": {
     "slide_type": "fragment"
    }
   },
   "outputs": [
    {
     "ename": "UnboundLocalError",
     "evalue": "local variable 'global_var' referenced before assignment",
     "output_type": "error",
     "traceback": [
      "\u001b[0;31m---------------------------------------------------------------------------\u001b[0m",
      "\u001b[0;31mUnboundLocalError\u001b[0m                         Traceback (most recent call last)",
      "\u001b[0;32m<ipython-input-21-9aae0efff233>\u001b[0m in \u001b[0;36m<module>\u001b[0;34m\u001b[0m\n\u001b[1;32m      4\u001b[0m     \u001b[0mglobal_var\u001b[0m \u001b[0;34m=\u001b[0m \u001b[0mglobal_var\u001b[0m \u001b[0;34m+\u001b[0m \u001b[0;36m1\u001b[0m\u001b[0;34m\u001b[0m\u001b[0;34m\u001b[0m\u001b[0m\n\u001b[1;32m      5\u001b[0m \u001b[0;34m\u001b[0m\u001b[0m\n\u001b[0;32m----> 6\u001b[0;31m \u001b[0mfoo\u001b[0m\u001b[0;34m(\u001b[0m\u001b[0;34m)\u001b[0m\u001b[0;34m\u001b[0m\u001b[0;34m\u001b[0m\u001b[0m\n\u001b[0m",
      "\u001b[0;32m<ipython-input-21-9aae0efff233>\u001b[0m in \u001b[0;36mfoo\u001b[0;34m()\u001b[0m\n\u001b[1;32m      2\u001b[0m \u001b[0;34m\u001b[0m\u001b[0m\n\u001b[1;32m      3\u001b[0m \u001b[0;32mdef\u001b[0m \u001b[0mfoo\u001b[0m\u001b[0;34m(\u001b[0m\u001b[0;34m)\u001b[0m\u001b[0;34m:\u001b[0m\u001b[0;34m\u001b[0m\u001b[0;34m\u001b[0m\u001b[0m\n\u001b[0;32m----> 4\u001b[0;31m     \u001b[0mglobal_var\u001b[0m \u001b[0;34m=\u001b[0m \u001b[0mglobal_var\u001b[0m \u001b[0;34m+\u001b[0m \u001b[0;36m1\u001b[0m\u001b[0;34m\u001b[0m\u001b[0;34m\u001b[0m\u001b[0m\n\u001b[0m\u001b[1;32m      5\u001b[0m \u001b[0;34m\u001b[0m\u001b[0m\n\u001b[1;32m      6\u001b[0m \u001b[0mfoo\u001b[0m\u001b[0;34m(\u001b[0m\u001b[0;34m)\u001b[0m\u001b[0;34m\u001b[0m\u001b[0;34m\u001b[0m\u001b[0m\n",
      "\u001b[0;31mUnboundLocalError\u001b[0m: local variable 'global_var' referenced before assignment"
     ]
    }
   ],
   "source": [
    "global_var = 0\n",
    "\n",
    "def foo():\n",
    "    global_var = global_var + 1\n",
    "\n",
    "foo()"
   ]
  },
  {
   "cell_type": "markdown",
   "metadata": {
    "colab_type": "text",
    "id": "sfdk1G86KL1a",
    "slideshow": {
     "slide_type": "subslide"
    }
   },
   "source": [
    "Change default behavior with keywords __nonlocal__ and __global__\n"
   ]
  },
  {
   "cell_type": "markdown",
   "metadata": {
    "colab_type": "text",
    "id": "VS8pxWWcKL1h",
    "slideshow": {
     "slide_type": "slide"
    }
   },
   "source": [
    "### global"
   ]
  },
  {
   "cell_type": "markdown",
   "metadata": {
    "colab_type": "text",
    "id": "cPKjSwUSKL1i",
    "slideshow": {
     "slide_type": "subslide"
    }
   },
   "source": [
    "To be able to assign new value to variable that is not in current scope:\n",
    "use __global__ operator.\n"
   ]
  },
  {
   "cell_type": "code",
   "execution_count": 44,
   "metadata": {
    "colab": {},
    "colab_type": "code",
    "id": "ng2dYUjGKL1j",
    "outputId": "7ffc1738-15b3-4b8b-9d6a-44234df4c3ff",
    "slideshow": {
     "slide_type": "fragment"
    }
   },
   "outputs": [
    {
     "name": "stdout",
     "output_type": "stream",
     "text": [
      "0\n",
      "1\n"
     ]
    }
   ],
   "source": [
    "global_var = 0\n",
    "\n",
    "\n",
    "def foo():\n",
    "    global global_var\n",
    "    global_var = global_var + 1\n",
    "\n",
    "\n",
    "print(global_var)\n",
    "foo()\n",
    "print(global_var)"
   ]
  },
  {
   "cell_type": "markdown",
   "metadata": {
    "colab_type": "text",
    "id": "YiPtr3HDKL1y",
    "slideshow": {
     "slide_type": "slide"
    }
   },
   "source": [
    "### nonlocal"
   ]
  },
  {
   "cell_type": "code",
   "execution_count": 47,
   "metadata": {
    "colab": {},
    "colab_type": "code",
    "id": "fAVYGZq6KL17",
    "outputId": "5d2ed86a-cec9-41d7-cec7-8f28318d7ca5",
    "slideshow": {
     "slide_type": "fragment"
    }
   },
   "outputs": [
    {
     "name": "stdout",
     "output_type": "stream",
     "text": [
      "local a is 3\n"
     ]
    }
   ],
   "source": [
    "def f1():\n",
    "    a = 1\n",
    "    b = 2\n",
    "    \n",
    "    def inner(): \n",
    "        nonlocal a\n",
    "        a = a + b\n",
    "        \n",
    "    inner()\n",
    "    print('local a is', a)\n",
    "\n",
    "    \n",
    "\n",
    "f1()"
   ]
  },
  {
   "cell_type": "markdown",
   "metadata": {
    "colab_type": "text",
    "id": "JoM9xbgCKL2D",
    "slideshow": {
     "slide_type": "slide"
    }
   },
   "source": [
    "### What to remember:"
   ]
  },
  {
   "cell_type": "markdown",
   "metadata": {
    "colab_type": "text",
    "id": "tYT0LFBYKL2G",
    "slideshow": {
     "slide_type": "fragment"
    }
   },
   "source": [
    "1. Python have 4 scopes: local, enclosing, global, built-in\n",
    "\n",
    "2. Name lookup is going from local to built-in. Using assignment operator name considered local.\n",
    "\n",
    "3. This behavior could be changed by using global and nonlocal operators\n"
   ]
  },
  {
   "cell_type": "markdown",
   "metadata": {
    "slideshow": {
     "slide_type": "slide"
    }
   },
   "source": [
    "#### Function annotation "
   ]
  },
  {
   "cell_type": "code",
   "execution_count": 25,
   "metadata": {
    "slideshow": {
     "slide_type": "fragment"
    }
   },
   "outputs": [
    {
     "name": "stdout",
     "output_type": "stream",
     "text": [
      "True\n"
     ]
    }
   ],
   "source": [
    "from typing import Iterable, Union\n",
    "# for python 3.9:\n",
    "# from collections.abc import Iterable\n",
    "\n",
    "def are_palindromes(words: Iterable[str], check: str = \"all\") -> Union[bool, str]:\n",
    "    if check not in (\"all\", \"any\"):\n",
    "        return f\"unknown {check} option; can be 'all' or 'any'\"\n",
    "    palindromes = (word == \"\".join(reversed(word)) for word in words)\n",
    "    if check == \"any\":\n",
    "        return any(palindromes)\n",
    "    return all(palindromes)\n",
    "\n",
    "\n",
    "print(are_palindromes([\"madam\", \"foo\"], \"any\"))\n",
    "\n",
    "a: None = None\n",
    "s: str = '123'"
   ]
  },
  {
   "cell_type": "markdown",
   "metadata": {
    "slideshow": {
     "slide_type": "subslide"
    }
   },
   "source": [
    "PEP 484 - Type Hints https://www.python.org/dev/peps/pep-0484/  \n",
    "PEP 526 - Syntax for Variable Annotations https://www.python.org/dev/peps/pep-0526/  \n",
    "\n",
    "Mypy https://mypy.readthedocs.io/en/stable/index.html"
   ]
  },
  {
   "cell_type": "code",
   "execution_count": 24,
   "metadata": {
    "scrolled": false,
    "slideshow": {
     "slide_type": "fragment"
    }
   },
   "outputs": [
    {
     "data": {
      "text/plain": [
       "{'words': typing.Iterable[str],\n",
       " 'check': str,\n",
       " 'return': typing.Union[bool, str]}"
      ]
     },
     "execution_count": 24,
     "metadata": {},
     "output_type": "execute_result"
    }
   ],
   "source": [
    "are_palindromes.__annotations__"
   ]
  },
  {
   "cell_type": "markdown",
   "metadata": {
    "slideshow": {
     "slide_type": "slide"
    }
   },
   "source": [
    "## map/filter/reduce"
   ]
  },
  {
   "cell_type": "markdown",
   "metadata": {
    "slideshow": {
     "slide_type": "fragment"
    }
   },
   "source": [
    "### map\n",
    "- Applies function to every item of iterable.\n",
    "- Stops when the shortest iterable is exhausted."
   ]
  },
  {
   "cell_type": "code",
   "execution_count": 7,
   "metadata": {
    "slideshow": {
     "slide_type": "fragment"
    }
   },
   "outputs": [
    {
     "data": {
      "text/plain": [
       "[-10, -20, -30]"
      ]
     },
     "execution_count": 7,
     "metadata": {},
     "output_type": "execute_result"
    }
   ],
   "source": [
    "first = [1, 2, 3]\n",
    "second = [11, 22, 33, 44]\n",
    "result = map(lambda x, y: x - y, first, second)\n",
    "list(result)"
   ]
  },
  {
   "cell_type": "code",
   "execution_count": 19,
   "metadata": {
    "slideshow": {
     "slide_type": "fragment"
    }
   },
   "outputs": [
    {
     "name": "stdout",
     "output_type": "stream",
     "text": [
      "['abcde']\n"
     ]
    }
   ],
   "source": [
    "print(list(map(lambda a, b, c, d, e: a + b + c + d + e, \"a\", \"b\", \"c\", \"ddd\", \"ee\")))"
   ]
  },
  {
   "cell_type": "code",
   "execution_count": 9,
   "metadata": {
    "slideshow": {
     "slide_type": "fragment"
    }
   },
   "outputs": [
    {
     "data": {
      "text/plain": [
       "[-10, -20, -30]"
      ]
     },
     "execution_count": 9,
     "metadata": {},
     "output_type": "execute_result"
    }
   ],
   "source": [
    "first = [1, 2, 3]\n",
    "second = [11, 22, 33, 44]\n",
    "result = [x - y for x, y in zip(first, second)]\n",
    "result"
   ]
  },
  {
   "cell_type": "markdown",
   "metadata": {
    "slideshow": {
     "slide_type": "notes"
    }
   },
   "source": [
    "- `map` is built-in\n",
    "- can take multiple iterables as arguments"
   ]
  },
  {
   "cell_type": "markdown",
   "metadata": {
    "slideshow": {
     "slide_type": "slide"
    }
   },
   "source": [
    "### filter\n",
    "- Construct an iterator from those elements of iterable for which function returns true.\n",
    "- If function is None, return the items that are true"
   ]
  },
  {
   "cell_type": "code",
   "execution_count": 12,
   "metadata": {
    "slideshow": {
     "slide_type": "fragment"
    }
   },
   "outputs": [
    {
     "data": {
      "text/plain": [
       "[2, 4]"
      ]
     },
     "execution_count": 12,
     "metadata": {},
     "output_type": "execute_result"
    }
   ],
   "source": [
    "lst = [1, 2, 3, 4]\n",
    "result = filter(lambda x: x % 2 == 0, lst)\n",
    "list(result)"
   ]
  },
  {
   "cell_type": "code",
   "execution_count": 13,
   "metadata": {
    "slideshow": {
     "slide_type": "fragment"
    }
   },
   "outputs": [
    {
     "data": {
      "text/plain": [
       "[2, 4]"
      ]
     },
     "execution_count": 13,
     "metadata": {},
     "output_type": "execute_result"
    }
   ],
   "source": [
    "lst = [1, 2, 3, 4]\n",
    "result = [x for x in lst if x % 2 == 0]\n",
    "result"
   ]
  },
  {
   "cell_type": "markdown",
   "metadata": {
    "slideshow": {
     "slide_type": "notes"
    }
   },
   "source": [
    "- `filter` is built-in\n",
    "- can take single iterable as argument"
   ]
  },
  {
   "cell_type": "markdown",
   "metadata": {
    "slideshow": {
     "slide_type": "subslide"
    }
   },
   "source": [
    "### truth value testing\n",
    "https://docs.python.org/3/library/stdtypes.html#truth-value-testing"
   ]
  },
  {
   "cell_type": "markdown",
   "metadata": {
    "slideshow": {
     "slide_type": "fragment"
    }
   },
   "source": [
    "Falsy values\n",
    "- constants defined to be false: None and False.\n",
    "- zero of any numeric type: 0, 0.0, 0j, Decimal(0), Fraction(0, 1)\n",
    "- empty sequences and collections: '', (), [], {}, set(), range(0)\n",
    "\n",
    "By default, an object is considered true unless its class defines either a `__bool__()` method that returns False or a `__len__()` method that returns zero.  \n",
    "If a class defines neither `__len__()` nor `__bool__()`, all its instances are considered true."
   ]
  },
  {
   "cell_type": "code",
   "execution_count": 20,
   "metadata": {
    "slideshow": {
     "slide_type": "fragment"
    }
   },
   "outputs": [
    {
     "name": "stdout",
     "output_type": "stream",
     "text": [
      "[1]\n"
     ]
    }
   ],
   "source": [
    "lst = [None, False, 0, 0.0, [], \"\", dict(), 1]\n",
    "print(list(filter(None, lst)))"
   ]
  },
  {
   "cell_type": "markdown",
   "metadata": {
    "slideshow": {
     "slide_type": "slide"
    }
   },
   "source": [
    "### reduce\n",
    "- The functools module is for higher-order functions: functions that act on or return other functions https://docs.python.org/3/library/functools.html\n",
    "- Apply function of two arguments cumulatively to the items of iterable, from left to right, so as to reduce the iterable to a single value\n",
    "- The left argument, x, is the accumulated value and the right argument, y, is the update value from the iterable."
   ]
  },
  {
   "cell_type": "code",
   "execution_count": 30,
   "metadata": {
    "slideshow": {
     "slide_type": "fragment"
    }
   },
   "outputs": [
    {
     "name": "stdout",
     "output_type": "stream",
     "text": [
      "2400\n"
     ]
    },
    {
     "data": {
      "text/plain": [
       "'abcdef'"
      ]
     },
     "execution_count": 30,
     "metadata": {},
     "output_type": "execute_result"
    }
   ],
   "source": [
    "from functools import reduce\n",
    "\n",
    "lst = [1, 2, 3, 4]\n",
    "result = reduce(lambda x, y: x * y, lst, 100)  # ((((100 * 1) * 2) * 3) * 4)\n",
    "print(result)\n",
    "\n",
    "reduce(lambda x, y: x + y, [\"abc\", \"def\"])"
   ]
  },
  {
   "cell_type": "markdown",
   "metadata": {
    "slideshow": {
     "slide_type": "slide"
    }
   },
   "source": [
    "# THE END"
   ]
  }
 ],
 "metadata": {
  "celltoolbar": "Slideshow",
  "colab": {
   "collapsed_sections": [
    "bjDR_khjrIwR",
    "g2FiBoEXFjE0",
    "yRaSwyLpJeE4",
    "Iwvk6lphfB03",
    "EGWujNrpfB1B",
    "4ztBsavMfB1H",
    "RokO50RwfB1M",
    "ZDAUXFKjfB1S",
    "mcy_jilUfB1Y",
    "GGdIbRR5fB1m",
    "QEOw1Q6ZCCEk",
    "vFmSKHcxIx9L",
    "Da6WJQhefB11",
    "O8TaAodk-taE",
    "ZwoxKdv5fB17",
    "5hwWGlzmfB2J",
    "SrRJ-LUxfB2R",
    "kiD6hsA_fB2t",
    "nPtt_iYxGIeq",
    "AH4XB5DRGIez",
    "DQdijjehGIfx",
    "TNtv3DTjGIgf",
    "MPS4ZGTFGIg4",
    "7Le2oJpDGIhz",
    "eGUtXxLlGIiW",
    "00egt4WeGIin",
    "iXzT2FqKGIi7",
    "prSD8bceGIjt",
    "Job4MoNrGIkB",
    "_Lq29M9PGIkV",
    "mQzHE7ymfB55",
    "x-OryYaRGIkV",
    "OgBJlLD9GIkY",
    "mk6X31RhGIkp",
    "BAldCH3mGIks",
    "-Y3lxGZNfB6e",
    "hxw7Swh3fB63",
    "ohjk6q_3fB64",
    "vzZESeuifB69",
    "3zMESzLufB69",
    "yNr2otIwfB6-",
    "4nAwcv6rfB7Q",
    "05CnJ13FfB7Q",
    "UmRC68qmfB7R",
    "97edDWnlfB7R",
    "vLbyHNnnfB7S",
    "sHOkJCpWfB7V",
    "zUyaKlg2fB7i",
    "ZqzS-MyQfB7j",
    "tJS_NtggfB7j",
    "OuXL42M7fB7n",
    "gTakWGzFfB7p",
    "2LnAKmAdfB7q",
    "dxQHxBS6fB7t",
    "nRcvLkfufB7u",
    "NJNNp2QmfB7u",
    "0FyYE5uHfB72",
    "EGIWwVuTLA_y",
    "oxD9VVa7LA_4",
    "dQtq6u9hLBAq",
    "UQHxBMdBLBAv",
    "1VuVM0-iLBBP",
    "i0UWuQcALBCX",
    "PmA7CnLlLBCq",
    "lLrnSj0MLBDA"
   ],
   "name": "data_structs.ipynb",
   "provenance": [],
   "version": "0.3.2"
  },
  "kernelspec": {
   "display_name": "Python 3 (ipykernel)",
   "language": "python",
   "name": "python3"
  },
  "language_info": {
   "codemirror_mode": {
    "name": "ipython",
    "version": 3
   },
   "file_extension": ".py",
   "mimetype": "text/x-python",
   "name": "python",
   "nbconvert_exporter": "python",
   "pygments_lexer": "ipython3",
   "version": "3.10.3"
  }
 },
 "nbformat": 4,
 "nbformat_minor": 2
}
