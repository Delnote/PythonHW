{
 "cells": [
  {
   "cell_type": "markdown",
   "id": "06fa43b1",
   "metadata": {
    "slideshow": {
     "slide_type": "slide"
    }
   },
   "source": [
    "# OOP"
   ]
  },
  {
   "cell_type": "markdown",
   "id": "0af7b69a",
   "metadata": {
    "slideshow": {
     "slide_type": "slide"
    }
   },
   "source": [
    "<div style='float:left;width:70%;font-size:25px'>\n",
    "    <h3>Smalltalk</h3>\n",
    "<ol>\n",
    "    <li>\n",
    "Everything is an object\n",
    "    </li><li>\n",
    "Objects communicate by sending and receiving messages (in terms of objects)\n",
    "        </li><li>\n",
    "Objects have their own memory (in terms of objects)\n",
    "        </li><li>\n",
    "Every object is an instance of a class (which must be an object)\n",
    "        </li><li>\n",
    "The class holds the shared behavior for its instances (in the form of objects in a program list)\n",
    "        </li><li>\n",
    "To eval a program list, control is passed to the first object and the remainder is treated as its message\n",
    "    </li>    </ol>\n",
    "\n",
    "\n",
    "> I thought of objects being like biological cells and/or individual computers on a network, only able to communicate with messages  \n",
    "-- <cite>Alan Kay</cite>\n",
    "    </div>\n",
    "    \n",
    "<img src='./images/alankay.jpg' style='float:right;width:30%' >"
   ]
  },
  {
   "cell_type": "markdown",
   "id": "73bde2dc",
   "metadata": {
    "slideshow": {
     "slide_type": "slide"
    }
   },
   "source": [
    "### Modern-world OOP\n",
    "\n",
    "- encapsulation\n",
    "- inheritance\n",
    "- polymorphism"
   ]
  },
  {
   "cell_type": "markdown",
   "id": "c8d80c1b",
   "metadata": {
    "slideshow": {
     "slide_type": "slide"
    }
   },
   "source": [
    "### Encapsulation\n",
    "\n",
    "- bundling data and methods to work with it\n",
    "- encapsulation does not mean data hiding in python\n",
    "\n"
   ]
  },
  {
   "cell_type": "markdown",
   "id": "aa92f400",
   "metadata": {
    "slideshow": {
     "slide_type": "slide"
    }
   },
   "source": [
    "#### Underscores\n",
    "\n",
    "- `_single_leading_underscore` - weak “internal use” indicator. E.g. from M import * does not import objects whose names start with an underscore\n",
    "- `single_trailing_underscore_` - used by convention to avoid conflicts with Python keyword, `foo(class_='ClassName')`\n",
    "- `__double_leading_underscore` - name mangling\n",
    "- `__double_leading_and_trailing_underscore__` - \"dunder\", \"magic\" objects or attributes; Never invent such names; only use them as documented"
   ]
  },
  {
   "cell_type": "markdown",
   "id": "fcba7570",
   "metadata": {
    "slideshow": {
     "slide_type": "slide"
    }
   },
   "source": [
    "## Class syntax"
   ]
  },
  {
   "cell_type": "code",
   "execution_count": 62,
   "id": "8f87e959",
   "metadata": {
    "slideshow": {
     "slide_type": "subslide"
    }
   },
   "outputs": [],
   "source": [
    "class FirstClass:\n",
    "    pass\n",
    "\n",
    "class SecondClass:\n",
    "    \"\"\"This is second class\"\"\""
   ]
  },
  {
   "cell_type": "markdown",
   "id": "401be52b",
   "metadata": {
    "slideshow": {
     "slide_type": "notes"
    }
   },
   "source": [
    "- `class` keyword + CapWords\n",
    "- new scope is created\n",
    "- docstring if needed\n"
   ]
  },
  {
   "cell_type": "code",
   "execution_count": 3,
   "id": "ad9430d1",
   "metadata": {
    "slideshow": {
     "slide_type": "fragment"
    }
   },
   "outputs": [],
   "source": [
    "class Customer:\n",
    "    \"\"\"Created when new customer registers\"\"\"\n",
    "    \n",
    "    def __init__(self, first_name, last_name, age=None):\n",
    "        self.first_name = first_name\n",
    "        self.last_name = last_name\n",
    "        self.age = age\n",
    "        self.full_name = f'{first_name} {last_name}'"
   ]
  },
  {
   "cell_type": "markdown",
   "id": "a3bb1227",
   "metadata": {
    "slideshow": {
     "slide_type": "notes"
    }
   },
   "source": [
    "- self is a link to class instance\n",
    "- the name can be anything, but `self` is preferred\n",
    "- `__init__` shouldn't return anything"
   ]
  },
  {
   "cell_type": "code",
   "execution_count": 4,
   "id": "623d7bf2",
   "metadata": {
    "slideshow": {
     "slide_type": "fragment"
    }
   },
   "outputs": [
    {
     "data": {
      "text/plain": [
       "{<__main__.Customer at 0x107441030>: 5, <__main__.Customer at 0x107443b80>: 6}"
      ]
     },
     "execution_count": 4,
     "metadata": {},
     "output_type": "execute_result"
    }
   ],
   "source": [
    "customer = Customer('Joe', 'Adams', 25)\n",
    "customer.first_name  # 'Joe'\n",
    "customer.age  # 25\n",
    "customer.full_name  #  'Joe Adams'\n",
    "\n",
    "another_customer = Customer('Maria', 'Smith')\n",
    "another_customer.age  # None\n",
    "\n",
    "\n",
    "\n",
    "{customer: 5, another_customer:6}"
   ]
  },
  {
   "cell_type": "code",
   "execution_count": 1,
   "id": "b88460c3",
   "metadata": {
    "scrolled": true,
    "slideshow": {
     "slide_type": "slide"
    }
   },
   "outputs": [
    {
     "name": "stdout",
     "output_type": "stream",
     "text": [
      "{'_MyClass__foo': 4, '_bar': 5}\n",
      "5\n"
     ]
    },
    {
     "ename": "AttributeError",
     "evalue": "'MyClass' object has no attribute '__foo'",
     "output_type": "error",
     "traceback": [
      "\u001b[0;31m---------------------------------------------------------------------------\u001b[0m",
      "\u001b[0;31mAttributeError\u001b[0m                            Traceback (most recent call last)",
      "Cell \u001b[0;32mIn [1], line 9\u001b[0m\n\u001b[1;32m      7\u001b[0m \u001b[38;5;28mprint\u001b[39m(a\u001b[38;5;241m.\u001b[39m\u001b[38;5;18m__dict__\u001b[39m)\n\u001b[1;32m      8\u001b[0m \u001b[38;5;28mprint\u001b[39m(a\u001b[38;5;241m.\u001b[39m_bar)\n\u001b[0;32m----> 9\u001b[0m \u001b[38;5;28mprint\u001b[39m(\u001b[43ma\u001b[49m\u001b[38;5;241;43m.\u001b[39;49m\u001b[43m__foo\u001b[49m)\n",
      "\u001b[0;31mAttributeError\u001b[0m: 'MyClass' object has no attribute '__foo'"
     ]
    }
   ],
   "source": [
    "class MyClass:\n",
    "    def __init__(self):\n",
    "        self.__foo = 4\n",
    "        self._bar = 5\n",
    "\n",
    "a = MyClass()\n",
    "print(a.__dict__)\n",
    "print(a._bar)\n",
    "print(a.__foo)"
   ]
  },
  {
   "cell_type": "markdown",
   "id": "41c9b068",
   "metadata": {
    "slideshow": {
     "slide_type": "slide"
    }
   },
   "source": [
    "### built-in read-only attributes\n",
    "- `__doc__` - documentation\n",
    "- `__module__` - name of the module in which the class was defined\n",
    "- `__base__` - parent class\n",
    "- `__name__` - class name\n",
    "- `__dict__` - dictionary containing the class’s namespace"
   ]
  },
  {
   "cell_type": "markdown",
   "id": "cca991ba",
   "metadata": {
    "slideshow": {
     "slide_type": "slide"
    }
   },
   "source": [
    "#### `__repr__` vs `__str__`"
   ]
  },
  {
   "cell_type": "code",
   "execution_count": 24,
   "id": "40aa97a0",
   "metadata": {
    "slideshow": {
     "slide_type": "fragment"
    }
   },
   "outputs": [
    {
     "name": "stdout",
     "output_type": "stream",
     "text": [
      "1234\n"
     ]
    },
    {
     "data": {
      "text/plain": [
       "MyValue(1234)"
      ]
     },
     "execution_count": 24,
     "metadata": {},
     "output_type": "execute_result"
    }
   ],
   "source": [
    "class MyValue:\n",
    "    def __init__(self, value):\n",
    "        self.value = value\n",
    "\n",
    "    def __repr__(self):  # unambiguous\n",
    "        return f\"{self.__class__.__name__}({self.value})\"\n",
    "    \n",
    "    def __str__(self):  # readable\n",
    "        return str(self.value)\n",
    "    \n",
    "mval = MyValue(1234)\n",
    "print(mval)\n",
    "mval"
   ]
  },
  {
   "cell_type": "markdown",
   "id": "f3e9a10e",
   "metadata": {
    "slideshow": {
     "slide_type": "slide"
    }
   },
   "source": [
    "### class attributes"
   ]
  },
  {
   "cell_type": "code",
   "execution_count": 2,
   "id": "87a7185c",
   "metadata": {
    "slideshow": {
     "slide_type": "fragment"
    }
   },
   "outputs": [
    {
     "name": "stdout",
     "output_type": "stream",
     "text": [
      "Python is awesome!\n",
      "Python is awesome!\n",
      "new foo\n",
      "Python is awesome!\n",
      "new foo\n",
      "new MyClass\n"
     ]
    }
   ],
   "source": [
    "class MyClass:\n",
    "    class_attribute = \"Python is awesome!\"\n",
    "\n",
    "\n",
    "foo = MyClass()\n",
    "bar = MyClass()\n",
    "print(foo.class_attribute)\n",
    "print(bar.class_attribute)\n",
    "foo.class_attribute = \"new foo\"\n",
    "print(foo.class_attribute)\n",
    "print(bar.class_attribute)\n",
    "\n",
    "MyClass.class_attribute = \"new MyClass\"\n",
    "print(foo.class_attribute)\n",
    "print(bar.class_attribute)"
   ]
  },
  {
   "cell_type": "code",
   "execution_count": 39,
   "id": "db349021",
   "metadata": {
    "scrolled": true,
    "slideshow": {
     "slide_type": "subslide"
    }
   },
   "outputs": [
    {
     "name": "stdout",
     "output_type": "stream",
     "text": [
      "{'class_attribute': 'new foo'}\n",
      "{}\n",
      "{'__module__': '__main__', 'class_attribute': 'new MyClass', '__dict__': <attribute '__dict__' of 'MyClass' objects>, '__weakref__': <attribute '__weakref__' of 'MyClass' objects>, '__doc__': None}\n",
      "{'class_attribute': 'new foo', 'new attribute': 123}\n"
     ]
    },
    {
     "ename": "TypeError",
     "evalue": "'mappingproxy' object does not support item assignment",
     "output_type": "error",
     "traceback": [
      "\u001b[0;31m---------------------------------------------------------------------------\u001b[0m",
      "\u001b[0;31mTypeError\u001b[0m                                 Traceback (most recent call last)",
      "Cell \u001b[0;32mIn [39], line 7\u001b[0m\n\u001b[1;32m      5\u001b[0m foo\u001b[38;5;241m.\u001b[39m\u001b[38;5;18m__dict__\u001b[39m[\u001b[38;5;124m\"\u001b[39m\u001b[38;5;124mnew attribute\u001b[39m\u001b[38;5;124m\"\u001b[39m] \u001b[38;5;241m=\u001b[39m \u001b[38;5;241m123\u001b[39m\n\u001b[1;32m      6\u001b[0m \u001b[38;5;28mprint\u001b[39m(foo\u001b[38;5;241m.\u001b[39m\u001b[38;5;18m__dict__\u001b[39m)\n\u001b[0;32m----> 7\u001b[0m \u001b[43mMyClass\u001b[49m\u001b[38;5;241;43m.\u001b[39;49m\u001b[38;5;18;43m__dict__\u001b[39;49m\u001b[43m[\u001b[49m\u001b[38;5;124;43m\"\u001b[39;49m\u001b[38;5;124;43mnew_attribute\u001b[39;49m\u001b[38;5;124;43m\"\u001b[39;49m\u001b[43m]\u001b[49m \u001b[38;5;241m=\u001b[39m \u001b[38;5;241m123\u001b[39m\n",
      "\u001b[0;31mTypeError\u001b[0m: 'mappingproxy' object does not support item assignment"
     ]
    }
   ],
   "source": [
    "print(foo.__dict__)\n",
    "print(bar.__dict__)\n",
    "print(MyClass.__dict__)\n",
    "\n",
    "foo.__dict__[\"new attribute\"] = 123\n",
    "print(foo.__dict__)\n",
    "MyClass.__dict__[\"new_attribute\"] = 123  # class dictionary cannot be changed"
   ]
  },
  {
   "cell_type": "markdown",
   "id": "1a9a2c97",
   "metadata": {
    "slideshow": {
     "slide_type": "slide"
    }
   },
   "source": [
    "#### `__slots__`\n",
    "- list of instance attributes\n",
    "- consumes less space than regular objects - doesn't have `__dict__`\n",
    "- improves read speed"
   ]
  },
  {
   "cell_type": "code",
   "execution_count": 44,
   "id": "1347221e",
   "metadata": {
    "scrolled": true,
    "slideshow": {
     "slide_type": "fragment"
    }
   },
   "outputs": [
    {
     "name": "stdout",
     "output_type": "stream",
     "text": [
      "111 222\n"
     ]
    }
   ],
   "source": [
    "class MyClass:\n",
    "    __slots__ = [\"first\", \"second\"]\n",
    "    \n",
    "    def __init__(self, first, second):\n",
    "        self.first = first\n",
    "        self.second = second\n",
    "        \n",
    "mc = MyClass(111, 222)\n",
    "print(mc.first, mc.second)\n",
    "mc.__dict__  # AttributeError\n",
    "mc.third = 333  # AttributeError"
   ]
  },
  {
   "cell_type": "markdown",
   "id": "63344aaa",
   "metadata": {
    "slideshow": {
     "slide_type": "slide"
    }
   },
   "source": [
    "## namedtuple"
   ]
  },
  {
   "cell_type": "markdown",
   "id": "527375be",
   "metadata": {
    "slideshow": {
     "slide_type": "fragment"
    }
   },
   "source": [
    "Named tuples are basically easy-to-create, lightweight alternative to objects. Named tuple instances can be referenced using object-like variable dereferencing or the standard tuple syntax."
   ]
  },
  {
   "cell_type": "code",
   "execution_count": 2,
   "id": "549b25c3",
   "metadata": {
    "slideshow": {
     "slide_type": "slide"
    }
   },
   "outputs": [
    {
     "name": "stdout",
     "output_type": "stream",
     "text": [
      "('red', 3812.4, 'white')\n",
      "<class '__main__.Car'> <class '__main__.Cat'>\n"
     ]
    }
   ],
   "source": [
    "from collections import namedtuple\n",
    "\n",
    "# collections.namedtuple(typename, field_names, *, rename=False, defaults=None, module=None)\n",
    "car_template = namedtuple('Car' , 'color mileage')\n",
    "cat_template = namedtuple('Cat' , 'color')\n",
    "\n",
    "my_car = car_template('red', 3812.4)\n",
    "my_cat = cat_template(\"white\")\n",
    "print(my_car + my_cat)\n",
    "print(type(my_car), type(my_cat))"
   ]
  },
  {
   "cell_type": "code",
   "execution_count": 6,
   "id": "9dabd90a",
   "metadata": {
    "slideshow": {
     "slide_type": "fragment"
    }
   },
   "outputs": [
    {
     "name": "stdout",
     "output_type": "stream",
     "text": [
      "red\n"
     ]
    },
    {
     "data": {
      "text/plain": [
       "'red'"
      ]
     },
     "execution_count": 6,
     "metadata": {},
     "output_type": "execute_result"
    }
   ],
   "source": [
    "print(my_car.color)  # dot notation\n",
    "my_car[0]  # index"
   ]
  },
  {
   "cell_type": "code",
   "execution_count": 1,
   "id": "5754b72f",
   "metadata": {
    "slideshow": {
     "slide_type": "slide"
    }
   },
   "outputs": [
    {
     "name": "stdout",
     "output_type": "stream",
     "text": [
      "<class '__main__.Car'>\n",
      "blue\n",
      "blue\n"
     ]
    },
    {
     "data": {
      "text/plain": [
       "'blue'"
      ]
     },
     "execution_count": 1,
     "metadata": {},
     "output_type": "execute_result"
    }
   ],
   "source": [
    "from typing import NamedTuple\n",
    "\n",
    "\n",
    "class Car(NamedTuple):\n",
    "    color: str\n",
    "    mileage: str\n",
    "\n",
    "    def get_color(self):\n",
    "        return self.color\n",
    "\n",
    "\n",
    "my_car = Car(\"blue\", \"15000\")\n",
    "print(type(my_car))\n",
    "print(my_car.get_color())\n",
    "print(my_car.color)\n",
    "my_car[0]"
   ]
  },
  {
   "cell_type": "markdown",
   "id": "d1b5fda0",
   "metadata": {
    "slideshow": {
     "slide_type": "slide"
    }
   },
   "source": [
    "### Dataclasses"
   ]
  },
  {
   "cell_type": "code",
   "execution_count": 4,
   "id": "4e335402",
   "metadata": {
    "slideshow": {
     "slide_type": "fragment"
    }
   },
   "outputs": [
    {
     "name": "stdout",
     "output_type": "stream",
     "text": [
      "<class '__main__.Data'>\n",
      "somedata\n"
     ]
    },
    {
     "data": {
      "text/plain": [
       "2005.0"
      ]
     },
     "execution_count": 4,
     "metadata": {},
     "output_type": "execute_result"
    }
   ],
   "source": [
    "from dataclasses import dataclass\n",
    "\n",
    "@dataclass\n",
    "# @dataclass(frozen=True)\n",
    "# @dataclass(slots=True) python 3.10\n",
    "class Data:\n",
    "    name: str\n",
    "    unit_price: float\n",
    "    quantity_on_hand: int\n",
    "\n",
    "    def total_cost(self) -> float:\n",
    "        return self.unit_price * self.quantity_on_hand\n",
    "    \n",
    "my_data = Data(\"somedata\", 100.25, 20)\n",
    "print(type(my_data))\n",
    "print(my_data.name)\n",
    "my_data.total_cost()"
   ]
  },
  {
   "cell_type": "markdown",
   "id": "45dda962",
   "metadata": {
    "slideshow": {
     "slide_type": "subslide"
    }
   },
   "source": [
    "- has `__repr__` and `__str__` by default\n",
    "- there is an overlap between namedtuples and dataclasses in python now\n",
    "- speed and memory usage difference is there, but it's not huge\n",
    "- https://peps.python.org/pep-0557/#why-not-just-use-namedtuple"
   ]
  },
  {
   "cell_type": "markdown",
   "id": "a238dfb5",
   "metadata": {
    "slideshow": {
     "slide_type": "slide"
    }
   },
   "source": [
    "### Function vs Method\n",
    "\n",
    "- object instance is prepended to the other arguments\n",
    "- method is bound to instance"
   ]
  },
  {
   "cell_type": "code",
   "execution_count": 46,
   "id": "bf1faeab",
   "metadata": {
    "slideshow": {
     "slide_type": "fragment"
    }
   },
   "outputs": [
    {
     "name": "stdout",
     "output_type": "stream",
     "text": [
      "<function just_func at 0x107f40820>\n"
     ]
    },
    {
     "data": {
      "text/plain": [
       "<bound method MyClass.bound_method of <__main__.MyClass object at 0x107331150>>"
      ]
     },
     "execution_count": 46,
     "metadata": {},
     "output_type": "execute_result"
    }
   ],
   "source": [
    "def just_func():\n",
    "    pass\n",
    "\n",
    "class MyClass:\n",
    "    def bound_method(self):\n",
    "        pass\n",
    "    \n",
    "print(just_func)\n",
    "MyClass().bound_method"
   ]
  },
  {
   "cell_type": "markdown",
   "id": "1fb67ea0",
   "metadata": {
    "slideshow": {
     "slide_type": "slide"
    }
   },
   "source": [
    "### kinds of methods"
   ]
  },
  {
   "cell_type": "code",
   "execution_count": 9,
   "id": "163c3bfd",
   "metadata": {
    "slideshow": {
     "slide_type": "fragment"
    }
   },
   "outputs": [
    {
     "name": "stdout",
     "output_type": "stream",
     "text": [
      "<class '__main__.SomeClass'>\n",
      "<class '__main__.SomeClass'>\n"
     ]
    },
    {
     "data": {
      "text/plain": [
       "False"
      ]
     },
     "execution_count": 9,
     "metadata": {},
     "output_type": "execute_result"
    }
   ],
   "source": [
    "class SomeClass:\n",
    "    \n",
    "    # bound_method\n",
    "    def __init__(self, number):\n",
    "        self.number = number\n",
    "    \n",
    "    # function\n",
    "    @staticmethod\n",
    "    def just_function():\n",
    "        return \"I cannot change class instance\"\n",
    "    \n",
    "    # bound_method\n",
    "    @classmethod\n",
    "    def create_new_object(cls, *args, **kwargs):\n",
    "        return cls(*args, **kwargs)\n",
    "\n",
    "\n",
    "foo = SomeClass(5)\n",
    "bar = foo.create_new_object(10)\n",
    "print(type(foo))\n",
    "print(type(bar))\n",
    "foo is bar  # False"
   ]
  },
  {
   "cell_type": "markdown",
   "id": "61fb826d",
   "metadata": {
    "slideshow": {
     "slide_type": "slide"
    }
   },
   "source": [
    "### getter/setter/deleter\n"
   ]
  },
  {
   "cell_type": "code",
   "execution_count": 61,
   "id": "91538752",
   "metadata": {
    "slideshow": {
     "slide_type": "slide"
    }
   },
   "outputs": [
    {
     "data": {
      "text/plain": [
       "305.7"
      ]
     },
     "execution_count": 61,
     "metadata": {},
     "output_type": "execute_result"
    }
   ],
   "source": [
    "class Temperature:\n",
    "    pass\n",
    "\n",
    "t = Temperature()\n",
    "t.kelvin = 305.7\n",
    "t.kelvin"
   ]
  },
  {
   "cell_type": "code",
   "execution_count": 56,
   "id": "fc734d43",
   "metadata": {
    "slideshow": {
     "slide_type": "fragment"
    }
   },
   "outputs": [
    {
     "data": {
      "text/plain": [
       "32.55"
      ]
     },
     "execution_count": 56,
     "metadata": {},
     "output_type": "execute_result"
    }
   ],
   "source": [
    "class Temperature:\n",
    "    \n",
    "    def __init__(self, kelvin: float):\n",
    "        self.kelvin = kelvin\n",
    "    \n",
    "    @property\n",
    "    def celsius(self):\n",
    "        celsius = self.kelvin - 273.15\n",
    "        return round(celsius, 2)\n",
    "    \n",
    "\n",
    "t = Temperature(305.7)\n",
    "t.celsius  # 32.55"
   ]
  },
  {
   "cell_type": "code",
   "execution_count": 58,
   "id": "9f778e2f",
   "metadata": {
    "slideshow": {
     "slide_type": "subslide"
    }
   },
   "outputs": [],
   "source": [
    "class Temperature:\n",
    "    \n",
    "    def __init__(self, kelvin: float):\n",
    "        self.kelvin = kelvin\n",
    "    \n",
    "    @property\n",
    "    def celsius(self):\n",
    "        celsius = self.kelvin - 273.15\n",
    "        return round(celsius, 2)\n",
    "        \n",
    "    @celsius.setter\n",
    "    def celsius(self, celsius):\n",
    "        self.kelvin = celsius + 273.15\n",
    "\n",
    "    @celsius.deleter\n",
    "    def celsius(self):\n",
    "        self.kelvin = None\n",
    "\n",
    "t = Temperature(305.7)\n",
    "\n",
    "t.celsius = 40\n",
    "t.kelvin  # 313.15\n",
    "t.celsius # 40.0\n",
    "\n",
    "del t.celsius\n",
    "t.kelvin  # None"
   ]
  },
  {
   "cell_type": "markdown",
   "id": "59fb1607",
   "metadata": {
    "slideshow": {
     "slide_type": "slide"
    }
   },
   "source": [
    "### Inheritance"
   ]
  },
  {
   "cell_type": "code",
   "execution_count": 63,
   "id": "ded4f73b",
   "metadata": {
    "slideshow": {
     "slide_type": "fragment"
    }
   },
   "outputs": [],
   "source": [
    "class FirstClass:\n",
    "    pass\n",
    "    \n",
    "class SecondClass(object):\n",
    "    pass"
   ]
  },
  {
   "cell_type": "code",
   "execution_count": null,
   "id": "0919deed",
   "metadata": {
    "slideshow": {
     "slide_type": "subslide"
    }
   },
   "outputs": [],
   "source": [
    "class FirstClass:\n",
    "    def __init__(self, number: int):\n",
    "        self.number = number\n",
    "\n",
    "class SecondClass(FirstClass):\n",
    "    def add_number(self, other_number: int):\n",
    "        self.number += other_number\n",
    "        return self.number\n",
    "\n",
    "class ThirdClass(SecondClass):\n",
    "    def increment(self):\n",
    "        self.number += 1\n",
    "        return self.number\n",
    "\n",
    "first, second, third = FirstClass(24), SecondClass(24), ThirdClass(24)\n",
    "\n",
    "third.increment()  # 25\n",
    "third.add_number(5)  # 30\n",
    "second.increment()  # AttributeError\n",
    "second.add_number(5)  # 29\n",
    "first.increment()  # AttributeError\n",
    "first.add_number(99)  # AttributeError"
   ]
  },
  {
   "cell_type": "markdown",
   "id": "9a3ad29e",
   "metadata": {
    "slideshow": {
     "slide_type": "slide"
    }
   },
   "source": [
    "### isinstance/type/issubclass"
   ]
  },
  {
   "cell_type": "code",
   "execution_count": 73,
   "id": "a16c0880",
   "metadata": {
    "slideshow": {
     "slide_type": "fragment"
    }
   },
   "outputs": [
    {
     "data": {
      "text/plain": [
       "False"
      ]
     },
     "execution_count": 73,
     "metadata": {},
     "output_type": "execute_result"
    }
   ],
   "source": [
    "class A:\n",
    "    pass\n",
    "\n",
    "class B(A):\n",
    "    pass\n",
    "\n",
    "class C:\n",
    "    pass\n",
    "\n",
    "b = B()\n",
    "isinstance(b, B)  # True\n",
    "isinstance(b, A)  # True\n",
    "\n",
    "isinstance(B(), (A, C)) # True\n",
    "isinstance(B(), A) or isinstance(B(), C) # True\n",
    "isinstance(B(), object) # True\n",
    "\n",
    "type(b) == B  # True\n",
    "type(b) == A  # type doesn't take inheritance into account"
   ]
  },
  {
   "cell_type": "code",
   "execution_count": 16,
   "id": "ed2ab2e6",
   "metadata": {
    "slideshow": {
     "slide_type": "subslide"
    }
   },
   "outputs": [
    {
     "data": {
      "text/plain": [
       "True"
      ]
     },
     "execution_count": 16,
     "metadata": {},
     "output_type": "execute_result"
    }
   ],
   "source": [
    "class A:\n",
    "    pass\n",
    "\n",
    "class B(A):\n",
    "    pass\n",
    "\n",
    "class C:\n",
    "    pass\n",
    "\n",
    "issubclass(B, B)  # True\n",
    "issubclass(B, A)  # True\n",
    "\n",
    "issubclass(B, (A, C)) # True\n",
    "issubclass(B, A) or issubclass(B, C) # True\n",
    "issubclass(B, object)"
   ]
  },
  {
   "cell_type": "markdown",
   "id": "f2a813f8",
   "metadata": {
    "slideshow": {
     "slide_type": "slide"
    }
   },
   "source": [
    "### super"
   ]
  },
  {
   "cell_type": "code",
   "execution_count": 82,
   "id": "bc8df11b",
   "metadata": {
    "slideshow": {
     "slide_type": "fragment"
    }
   },
   "outputs": [
    {
     "name": "stdout",
     "output_type": "stream",
     "text": [
      "Reload method\n"
     ]
    },
    {
     "data": {
      "text/plain": [
       "30"
      ]
     },
     "execution_count": 82,
     "metadata": {},
     "output_type": "execute_result"
    }
   ],
   "source": [
    "class FirstClass:\n",
    "    def __init__(self, number: int):\n",
    "        self.number = number\n",
    "    \n",
    "    def add_number(self, other_number: int):\n",
    "        self.number += other_number\n",
    "        return self.number\n",
    "\n",
    "class SecondClass(FirstClass):\n",
    "    def add_number(self, *args, **kwargs):\n",
    "        print('Reload method')\n",
    "        \n",
    "        # Calling FirstClass.add_number\n",
    "        result = super().add_number(*args, **kwargs)\n",
    "        return result\n",
    "\n",
    "first, second = FirstClass(24), SecondClass(24)\n",
    "\n",
    "first.add_number(6)  # 30\n",
    "second.add_number(6)  # 30"
   ]
  },
  {
   "cell_type": "code",
   "execution_count": 84,
   "id": "4cee1268",
   "metadata": {
    "slideshow": {
     "slide_type": "slide"
    }
   },
   "outputs": [
    {
     "name": "stdout",
     "output_type": "stream",
     "text": [
      "first\n",
      "first\n",
      "first\n"
     ]
    }
   ],
   "source": [
    "class FirstClass:\n",
    "    def __init__(self):\n",
    "        print('first')\n",
    "\n",
    "class SecondClass(FirstClass):\n",
    "    def __init__(self, *args, **kwargs):\n",
    "        \n",
    "        # take information from first arg\n",
    "        proxy = super()  # <super: <class 'SecondClass'>, <SecondClass object>>\n",
    "        \n",
    "        # super(type, obj) -> bound super object; requires isinstance(obj, type)\n",
    "        super(self.__class__, self).__init__()  # None and print 'first'\n",
    "        \n",
    "        # super() -> same as super(__class__, <first argument>)\n",
    "        super().__init__()  # None and print 'first'\n",
    "        \n",
    "instance = SecondClass(1)\n",
    "super(SecondClass, instance).__init__()  # None and print 'first'"
   ]
  },
  {
   "cell_type": "markdown",
   "id": "e29ae403",
   "metadata": {
    "slideshow": {
     "slide_type": "slide"
    }
   },
   "source": [
    "### multiple inheritance"
   ]
  },
  {
   "cell_type": "code",
   "execution_count": 85,
   "id": "81cdbbfb",
   "metadata": {
    "slideshow": {
     "slide_type": "fragment"
    }
   },
   "outputs": [
    {
     "name": "stdout",
     "output_type": "stream",
     "text": [
      "second\n"
     ]
    }
   ],
   "source": [
    "class First:\n",
    "    def __init__(self):\n",
    "        print('first')\n",
    "\n",
    "class Second(First):\n",
    "    def __init__(self):\n",
    "        print('second')\n",
    "        \n",
    "        \n",
    "class Third(First):\n",
    "    def __init__(self):\n",
    "        print('third')\n",
    "        \n",
    "        \n",
    "class Fourth(Second, Third):\n",
    "    def __init__(self):\n",
    "        \n",
    "        # Which methods will I call?\n",
    "        # Second or Third ?\n",
    "        super().__init__()\n",
    "\n",
    "        \n",
    "obj = Fourth()"
   ]
  },
  {
   "cell_type": "code",
   "execution_count": 86,
   "id": "842e1fba",
   "metadata": {
    "slideshow": {
     "slide_type": "subslide"
    }
   },
   "outputs": [
    {
     "name": "stdout",
     "output_type": "stream",
     "text": [
      "third\n"
     ]
    }
   ],
   "source": [
    "class First:\n",
    "    def __init__(self):\n",
    "        print('first')\n",
    "\n",
    "class Second(First):\n",
    "    pass\n",
    "        \n",
    "        \n",
    "class Third(First):\n",
    "    def __init__(self):\n",
    "        print('third')\n",
    "        \n",
    "        \n",
    "class Fourth(Second, Third):\n",
    "    def __init__(self):\n",
    "        \n",
    "        # Which methods will I call?\n",
    "        # First or Third ?\n",
    "        super().__init__()\n",
    "\n",
    "        \n",
    "obj = Fourth()"
   ]
  },
  {
   "cell_type": "markdown",
   "id": "1b96775a",
   "metadata": {
    "slideshow": {
     "slide_type": "slide"
    }
   },
   "source": [
    "### MRO (Method resolution order)"
   ]
  },
  {
   "cell_type": "code",
   "execution_count": 87,
   "id": "243af8b1",
   "metadata": {
    "slideshow": {
     "slide_type": "fragment"
    }
   },
   "outputs": [
    {
     "data": {
      "text/plain": [
       "[__main__.Fourth, __main__.Second, __main__.Third, __main__.First, object]"
      ]
     },
     "execution_count": 87,
     "metadata": {},
     "output_type": "execute_result"
    }
   ],
   "source": [
    "Fourth.__mro__  # (__main__.Fourth, __main__.Second, __main__.Third, __main__.First, object)\n",
    "Fourth.mro()  # [__main__.Fourth, __main__.Second, __main__.Third, __main__.First, object]"
   ]
  },
  {
   "cell_type": "markdown",
   "id": "77e1efce",
   "metadata": {
    "slideshow": {
     "slide_type": "slide"
    }
   },
   "source": [
    "### Polymorphism"
   ]
  },
  {
   "cell_type": "code",
   "execution_count": 1,
   "id": "ac0b7e4b",
   "metadata": {
    "slideshow": {
     "slide_type": "slide"
    }
   },
   "outputs": [
    {
     "ename": "TypeError",
     "evalue": "Can't instantiate abstract class Baz with abstract method abs_method",
     "output_type": "error",
     "traceback": [
      "\u001b[0;31m---------------------------------------------------------------------------\u001b[0m",
      "\u001b[0;31mTypeError\u001b[0m                                 Traceback (most recent call last)",
      "Cell \u001b[0;32mIn [1], line 12\u001b[0m\n\u001b[1;32m      9\u001b[0m \u001b[38;5;28;01mclass\u001b[39;00m \u001b[38;5;21;01mBaz\u001b[39;00m(Foo):\n\u001b[1;32m     10\u001b[0m     \u001b[38;5;28;01mpass\u001b[39;00m\n\u001b[0;32m---> 12\u001b[0m a \u001b[38;5;241m=\u001b[39m \u001b[43mBaz\u001b[49m\u001b[43m(\u001b[49m\u001b[43m)\u001b[49m\n",
      "\u001b[0;31mTypeError\u001b[0m: Can't instantiate abstract class Baz with abstract method abs_method"
     ]
    }
   ],
   "source": [
    "from abc import ABC, abstractmethod\n",
    "\n",
    "\n",
    "class Foo(ABC):\n",
    "    @abstractmethod\n",
    "    def abs_method(self):\n",
    "        pass\n",
    "\n",
    "class Baz(Foo):\n",
    "    pass\n",
    "\n",
    "a = Baz()"
   ]
  },
  {
   "cell_type": "code",
   "execution_count": 2,
   "id": "c768ca1b",
   "metadata": {
    "slideshow": {
     "slide_type": "subslide"
    }
   },
   "outputs": [
    {
     "name": "stdout",
     "output_type": "stream",
     "text": [
      "I am concrete\n"
     ]
    }
   ],
   "source": [
    "from abc import ABC, abstractmethod\n",
    "\n",
    "\n",
    "class Foo(ABC):\n",
    "    @abstractmethod\n",
    "    def abs_method(self):\n",
    "        pass\n",
    "\n",
    "class Baz(Foo):\n",
    "    def abs_method(self):\n",
    "        print(\"I am concrete\")\n",
    "\n",
    "a = Baz()\n",
    "a.abs_method()"
   ]
  },
  {
   "cell_type": "code",
   "execution_count": 5,
   "id": "37aefad3",
   "metadata": {
    "slideshow": {
     "slide_type": "subslide"
    }
   },
   "outputs": [
    {
     "name": "stdout",
     "output_type": "stream",
     "text": [
      "I am abstract\n",
      "I am implemented in abstract class\n"
     ]
    }
   ],
   "source": [
    "from abc import ABC, abstractmethod\n",
    "\n",
    "\n",
    "class Foo(ABC):\n",
    "    @abstractmethod\n",
    "    def abs_method(self):\n",
    "        print(\"I am abstract\")\n",
    "        \n",
    "    def implemented_method(self):\n",
    "        print(\"I am implemented in abstract class\")\n",
    "\n",
    "class Baz(Foo):\n",
    "    def abs_method(self):\n",
    "        super().abs_method()\n",
    "\n",
    "a = Baz()\n",
    "a.abs_method()\n",
    "a.implemented_method()"
   ]
  },
  {
   "cell_type": "code",
   "execution_count": 8,
   "id": "1a9fce9d",
   "metadata": {
    "slideshow": {
     "slide_type": "subslide"
    }
   },
   "outputs": [],
   "source": [
    "class Container(ABC):\n",
    "    __slots__ = ()\n",
    "\n",
    "    @abstractmethod\n",
    "    def __contains__(self, x):\n",
    "        return False\n",
    "\n",
    "    @classmethod\n",
    "    def __subclasshook__(cls, C):  # Check whether subclass is considered a subclass of this ABC\n",
    "        if cls is Container:\n",
    "            if any(\"__contains__\" in B.__dict__ for B in C.__mro__):\n",
    "                return True\n",
    "        return NotImplemented"
   ]
  },
  {
   "cell_type": "code",
   "execution_count": 23,
   "id": "62a989b1",
   "metadata": {
    "slideshow": {
     "slide_type": "fragment"
    }
   },
   "outputs": [
    {
     "name": "stdout",
     "output_type": "stream",
     "text": [
      "True\n",
      "True\n"
     ]
    },
    {
     "data": {
      "text/plain": [
       "True"
      ]
     },
     "execution_count": 23,
     "metadata": {},
     "output_type": "execute_result"
    }
   ],
   "source": [
    "# python considers some class B to be a subclass of A if B implements A's interface\n",
    "\n",
    "class CommonContainer:\n",
    "    def __contains__(self, item):\n",
    "        return True\n",
    "    \n",
    "print(issubclass(CommonContainer, Container))\n",
    "print(isinstance(CommonContainer(), Container))\n",
    "isinstance(list(), Container)"
   ]
  },
  {
   "cell_type": "markdown",
   "id": "a61b3009",
   "metadata": {
    "slideshow": {
     "slide_type": "slide"
    }
   },
   "source": [
    "# Exceptions"
   ]
  },
  {
   "cell_type": "code",
   "execution_count": 88,
   "id": "a07a9068",
   "metadata": {
    "slideshow": {
     "slide_type": "fragment"
    }
   },
   "outputs": [],
   "source": [
    "try:\n",
    "    very_dangerous_function()\n",
    "except:\n",
    "    pass"
   ]
  },
  {
   "cell_type": "code",
   "execution_count": 89,
   "id": "9aba3f5a",
   "metadata": {
    "scrolled": true,
    "slideshow": {
     "slide_type": "fragment"
    }
   },
   "outputs": [
    {
     "ename": "SyntaxError",
     "evalue": "default 'except:' must be last (1859279610.py, line 3)",
     "output_type": "error",
     "traceback": [
      "\u001b[0;36m  Cell \u001b[0;32mIn [89], line 3\u001b[0;36m\u001b[0m\n\u001b[0;31m    except:\u001b[0m\n\u001b[0m    ^\u001b[0m\n\u001b[0;31mSyntaxError\u001b[0m\u001b[0;31m:\u001b[0m default 'except:' must be last\n"
     ]
    }
   ],
   "source": [
    "try:\n",
    "    very_dangerous_function()\n",
    "except:\n",
    "    print('all exceptions')  # SyntaxError: default 'except:' must be last\n",
    "except (TypeError, ValueError) as err:\n",
    "    print(f'I caught error: {err}')\n",
    "except ZeroDivisionError:\n",
    "    print('Error 1/0')"
   ]
  },
  {
   "cell_type": "markdown",
   "id": "30a0602b",
   "metadata": {
    "slideshow": {
     "slide_type": "slide"
    }
   },
   "source": [
    "- BaseException\n",
    "- Exception, GeneratorExit, SystemExit, KeyboardInterrupt\n",
    "- `Exception.__subclasses__()` - ['TypeError', 'StopAsyncIteration', 'StopIteration', 'ImportError', 'OSError', 'EOFError', 'RuntimeError', 'NameError', 'AttributeError', 'SyntaxError', 'LookupError', 'ValueError', 'AssertionError', 'ArithmeticError', 'SystemError', 'ReferenceError', 'MemoryError', 'BufferError', 'Warning', 'warnings._OptionError', 're.error', 're_parse.Verbose', 'ocale.Error', 'tokenize.TokenError', 'tokenize.StopTokenizing', 'inspect.ClassFoundException', 'inspect.EndOfBlock', 'ubprocess.SubprocessError', 'pydoc.ErrorDuringImport']"
   ]
  },
  {
   "cell_type": "code",
   "execution_count": 90,
   "id": "e4e1d016",
   "metadata": {
    "slideshow": {
     "slide_type": "subslide"
    }
   },
   "outputs": [
    {
     "name": "stdout",
     "output_type": "stream",
     "text": [
      "all user exceptions\n"
     ]
    }
   ],
   "source": [
    "try:\n",
    "    very_dangerous_function()\n",
    "except ZeroDivisionError:\n",
    "    print('Error 1/0')\n",
    "except (TypeError, ValueError) as err:\n",
    "    print(f'I caught error: {err}')\n",
    "\n",
    "except Exception:  # it is bad way\n",
    "    print('all user exceptions')\n",
    "\n",
    "except BaseException:  # do not do this\n",
    "    print('all exceptions')\n",
    "except:  # do not do this\n",
    "    print('the same')"
   ]
  },
  {
   "cell_type": "code",
   "execution_count": 91,
   "id": "14ed2789",
   "metadata": {
    "slideshow": {
     "slide_type": "subslide"
    }
   },
   "outputs": [
    {
     "name": "stdout",
     "output_type": "stream",
     "text": [
      "inside function\n"
     ]
    }
   ],
   "source": [
    "def very_dangerous_function():\n",
    "    try:\n",
    "        1/0\n",
    "    except ZeroDivisionError:\n",
    "        print('inside function')\n",
    "\n",
    "try:\n",
    "    very_dangerous_function()\n",
    "except ZeroDivisionError:\n",
    "    print('outside function')"
   ]
  },
  {
   "cell_type": "code",
   "execution_count": 93,
   "id": "cead44d7",
   "metadata": {
    "slideshow": {
     "slide_type": "subslide"
    }
   },
   "outputs": [
    {
     "name": "stdout",
     "output_type": "stream",
     "text": [
      "<class 'ZeroDivisionError'>\n",
      "True\n",
      "Exception\n"
     ]
    }
   ],
   "source": [
    "try:\n",
    "    1/0\n",
    "except Exception as err:\n",
    "    print(type(err))\n",
    "    print(isinstance(err, Exception))\n",
    "    print('Exception')\n",
    "except ZeroDivisionError as err:\n",
    "    print(type(err))\n",
    "    print('ZeroDivisionError')"
   ]
  },
  {
   "cell_type": "code",
   "execution_count": 94,
   "id": "79fa30f8",
   "metadata": {
    "slideshow": {
     "slide_type": "slide"
    }
   },
   "outputs": [
    {
     "name": "stdout",
     "output_type": "stream",
     "text": [
      "15\n",
      "division by zero\n",
      "22\n"
     ]
    },
    {
     "ename": "NameError",
     "evalue": "name 'err' is not defined",
     "output_type": "error",
     "traceback": [
      "\u001b[0;31m---------------------------------------------------------------------------\u001b[0m",
      "\u001b[0;31mNameError\u001b[0m                                 Traceback (most recent call last)",
      "Cell \u001b[0;32mIn [94], line 12\u001b[0m\n\u001b[1;32m      9\u001b[0m     err \u001b[38;5;241m=\u001b[39m \u001b[38;5;241m22\u001b[39m\n\u001b[1;32m     10\u001b[0m     \u001b[38;5;28mprint\u001b[39m(err)  \u001b[38;5;66;03m# 22\u001b[39;00m\n\u001b[0;32m---> 12\u001b[0m \u001b[43merr\u001b[49m\n",
      "\u001b[0;31mNameError\u001b[0m: name 'err' is not defined"
     ]
    }
   ],
   "source": [
    "err = 15\n",
    "\n",
    "try:\n",
    "    print(err)  # 15\n",
    "    1/0\n",
    "    \n",
    "except ZeroDivisionError as err:\n",
    "    print(err)  # division by zero\n",
    "    err = 22\n",
    "    print(err)  # 22\n",
    "\n",
    "err  # NameError: name 'err' is not defined"
   ]
  },
  {
   "cell_type": "markdown",
   "id": "6dbd1f68",
   "metadata": {
    "slideshow": {
     "slide_type": "notes"
    }
   },
   "source": [
    "- variables in exception block are restricted to this block's scope\n",
    "- after exception block the variable will be deleted - even if it was defined before the try/except"
   ]
  },
  {
   "cell_type": "code",
   "execution_count": 97,
   "id": "a59cb3fc",
   "metadata": {
    "scrolled": true,
    "slideshow": {
     "slide_type": "slide"
    }
   },
   "outputs": [
    {
     "ename": "AssertionError",
     "evalue": "Values are not equal",
     "output_type": "error",
     "traceback": [
      "\u001b[0;31m---------------------------------------------------------------------------\u001b[0m",
      "\u001b[0;31mAssertionError\u001b[0m                            Traceback (most recent call last)",
      "Cell \u001b[0;32mIn [97], line 3\u001b[0m\n\u001b[1;32m      1\u001b[0m \u001b[38;5;28;01massert\u001b[39;00m \u001b[38;5;124m\"\u001b[39m\u001b[38;5;124mfoo\u001b[39m\u001b[38;5;124m\"\u001b[39m\n\u001b[1;32m      2\u001b[0m \u001b[38;5;28;01massert\u001b[39;00m \u001b[38;5;241m5\u001b[39m \u001b[38;5;241m-\u001b[39m \u001b[38;5;241m4\u001b[39m \u001b[38;5;241m>\u001b[39m \u001b[38;5;241m0\u001b[39m\n\u001b[0;32m----> 3\u001b[0m \u001b[38;5;28;01massert\u001b[39;00m \u001b[38;5;241m1\u001b[39m \u001b[38;5;241m==\u001b[39m \u001b[38;5;241m2\u001b[39m, \u001b[38;5;124m\"\u001b[39m\u001b[38;5;124mValues are not equal\u001b[39m\u001b[38;5;124m\"\u001b[39m\n\u001b[1;32m      5\u001b[0m \u001b[38;5;28;01mdef\u001b[39;00m \u001b[38;5;21mdiscount\u001b[39m():\n\u001b[1;32m      6\u001b[0m     \u001b[38;5;28;01mreturn\u001b[39;00m \u001b[38;5;241m50\u001b[39m\n",
      "\u001b[0;31mAssertionError\u001b[0m: Values are not equal"
     ]
    }
   ],
   "source": [
    "assert \"foo\"\n",
    "assert 5 - 4 > 0\n",
    "assert 1 == 2, \"Values are not equal\"\n",
    "\n",
    "def discount():\n",
    "    return 50\n",
    "\n",
    "assert 0 < discount() < 99"
   ]
  },
  {
   "cell_type": "code",
   "execution_count": null,
   "id": "c4558a0a",
   "metadata": {
    "slideshow": {
     "slide_type": "fragment"
    }
   },
   "outputs": [],
   "source": [
    "assert []  # False for empty iterable\n",
    "assert (1 == 2, \"Values are not equal\")  # Always true\n",
    "assert (False, False)  # Always true\n",
    "assert all((False, True))  # False\n",
    "assert any((False, True))  # True"
   ]
  },
  {
   "cell_type": "markdown",
   "id": "2d4e798e",
   "metadata": {
    "slideshow": {
     "slide_type": "fragment"
    }
   },
   "source": [
    "- Don't use `assert` to check user data!\n",
    "- `python -Oc \"assert False\"`\n",
    "- `PYTHONOPTIMIZE=TRUE`"
   ]
  },
  {
   "cell_type": "markdown",
   "id": "8a2e7152",
   "metadata": {
    "slideshow": {
     "slide_type": "slide"
    }
   },
   "source": [
    "### Custom exceptions"
   ]
  },
  {
   "cell_type": "code",
   "execution_count": null,
   "id": "b6213cba",
   "metadata": {
    "slideshow": {
     "slide_type": "fragment"
    }
   },
   "outputs": [],
   "source": [
    "class MyLibraryError(Exception):\n",
    "    \"\"\"Base exception in my library\"\"\"\n",
    "\n",
    "class ServerDownError(MyLibraryError):\n",
    "    \"\"\"Error for situations when server down\"\"\"\n",
    "\n",
    "try:\n",
    "    1/0\n",
    "except ZeroDivisionError as err:\n",
    "    print(err.args)  # ('division by zero',)\n",
    "    tb = err.__traceback__\n",
    "\n",
    "\n",
    "import traceback\n",
    "traceback.print_tb(tb)  # File \"<stdin>\", line 8, in <module> 1/0"
   ]
  },
  {
   "cell_type": "markdown",
   "id": "fbf65fee",
   "metadata": {
    "slideshow": {
     "slide_type": "fragment"
    }
   },
   "source": [
    "- use Exception as base class\n",
    "- `exception.args` - tuple of agrs that were passed to exception constructor\n",
    "- `__traceback__` - exception call stack info"
   ]
  },
  {
   "cell_type": "markdown",
   "id": "36e3af4d",
   "metadata": {
    "slideshow": {
     "slide_type": "subslide"
    }
   },
   "source": [
    "### how to raise an exception"
   ]
  },
  {
   "cell_type": "code",
   "execution_count": 101,
   "id": "70168ed9",
   "metadata": {
    "slideshow": {
     "slide_type": "fragment"
    }
   },
   "outputs": [
    {
     "ename": "ValueError",
     "evalue": "Must be > 0",
     "output_type": "error",
     "traceback": [
      "\u001b[0;31m---------------------------------------------------------------------------\u001b[0m",
      "\u001b[0;31mValueError\u001b[0m                                Traceback (most recent call last)",
      "Cell \u001b[0;32mIn [101], line 1\u001b[0m\n\u001b[0;32m----> 1\u001b[0m \u001b[38;5;28;01mraise\u001b[39;00m \u001b[38;5;167;01mValueError\u001b[39;00m(\u001b[38;5;124m\"\u001b[39m\u001b[38;5;124mMust be > 0\u001b[39m\u001b[38;5;124m\"\u001b[39m)\n\u001b[1;32m      2\u001b[0m \u001b[38;5;66;03m# ValueError: Must be > 0\u001b[39;00m\n\u001b[1;32m      4\u001b[0m \u001b[38;5;28;01mraise\u001b[39;00m ServerDownError(\u001b[38;5;124m\"\u001b[39m\u001b[38;5;124mSomthing wrong\u001b[39m\u001b[38;5;124m\"\u001b[39m)\n",
      "\u001b[0;31mValueError\u001b[0m: Must be > 0"
     ]
    }
   ],
   "source": [
    "raise ValueError(\"Must be > 0\")\n",
    "# ValueError: Must be > 0\n",
    "\n",
    "raise ServerDownError(\"Somthing wrong\")\n",
    "# ServerDownError: Somthing wrong\n",
    "\n",
    "\n",
    "try:\n",
    "    1/0\n",
    "except ZeroDivisionError:\n",
    "    raise  # last catched exception will be re-raised\n",
    "    \n",
    "raise\n",
    "# RuntimeError: No active exception to reraise"
   ]
  },
  {
   "cell_type": "code",
   "execution_count": 108,
   "id": "7f80fc88",
   "metadata": {
    "scrolled": true,
    "slideshow": {
     "slide_type": "subslide"
    }
   },
   "outputs": [
    {
     "ename": "ValueError",
     "evalue": "",
     "output_type": "error",
     "traceback": [
      "\u001b[0;31m---------------------------------------------------------------------------\u001b[0m",
      "\u001b[0;31mZeroDivisionError\u001b[0m                         Traceback (most recent call last)",
      "\u001b[0;31mZeroDivisionError\u001b[0m: ",
      "\nThe above exception was the direct cause of the following exception:\n",
      "\u001b[0;31mValueError\u001b[0m                                Traceback (most recent call last)",
      "Cell \u001b[0;32mIn [108], line 1\u001b[0m\n\u001b[0;32m----> 1\u001b[0m \u001b[38;5;28;01mraise\u001b[39;00m \u001b[38;5;167;01mValueError\u001b[39;00m \u001b[38;5;28;01mfrom\u001b[39;00m \u001b[38;5;21;01mZeroDivisionError\u001b[39;00m\n",
      "\u001b[0;31mValueError\u001b[0m: "
     ]
    }
   ],
   "source": [
    "raise ValueError from ZeroDivisionError"
   ]
  },
  {
   "cell_type": "code",
   "execution_count": 107,
   "id": "37cf1dbb",
   "metadata": {
    "slideshow": {
     "slide_type": "subslide"
    }
   },
   "outputs": [
    {
     "ename": "ValueError",
     "evalue": "don't divide by 0",
     "output_type": "error",
     "traceback": [
      "\u001b[0;31m---------------------------------------------------------------------------\u001b[0m",
      "\u001b[0;31mZeroDivisionError\u001b[0m                         Traceback (most recent call last)",
      "Cell \u001b[0;32mIn [107], line 5\u001b[0m\n\u001b[1;32m      4\u001b[0m \u001b[38;5;28;01mtry\u001b[39;00m:\n\u001b[0;32m----> 5\u001b[0m     \u001b[43mdivide_by_zero\u001b[49m\u001b[43m(\u001b[49m\u001b[43m)\u001b[49m\n\u001b[1;32m      6\u001b[0m \u001b[38;5;28;01mexcept\u001b[39;00m \u001b[38;5;167;01mZeroDivisionError\u001b[39;00m \u001b[38;5;28;01mas\u001b[39;00m err:\n",
      "Cell \u001b[0;32mIn [107], line 2\u001b[0m, in \u001b[0;36mdivide_by_zero\u001b[0;34m()\u001b[0m\n\u001b[1;32m      1\u001b[0m \u001b[38;5;28;01mdef\u001b[39;00m \u001b[38;5;21mdivide_by_zero\u001b[39m():\n\u001b[0;32m----> 2\u001b[0m     \u001b[38;5;241;43m1\u001b[39;49m\u001b[38;5;241;43m/\u001b[39;49m\u001b[38;5;241;43m0\u001b[39;49m\n",
      "\u001b[0;31mZeroDivisionError\u001b[0m: division by zero",
      "\nThe above exception was the direct cause of the following exception:\n",
      "\u001b[0;31mValueError\u001b[0m                                Traceback (most recent call last)",
      "Cell \u001b[0;32mIn [107], line 7\u001b[0m\n\u001b[1;32m      5\u001b[0m     divide_by_zero()\n\u001b[1;32m      6\u001b[0m \u001b[38;5;28;01mexcept\u001b[39;00m \u001b[38;5;167;01mZeroDivisionError\u001b[39;00m \u001b[38;5;28;01mas\u001b[39;00m err:\n\u001b[0;32m----> 7\u001b[0m     \u001b[38;5;28;01mraise\u001b[39;00m \u001b[38;5;167;01mValueError\u001b[39;00m(\u001b[38;5;124m\"\u001b[39m\u001b[38;5;124mdon\u001b[39m\u001b[38;5;124m'\u001b[39m\u001b[38;5;124mt divide by 0\u001b[39m\u001b[38;5;124m\"\u001b[39m) \u001b[38;5;28;01mfrom\u001b[39;00m \u001b[38;5;21;01merr\u001b[39;00m\n",
      "\u001b[0;31mValueError\u001b[0m: don't divide by 0"
     ]
    }
   ],
   "source": [
    "def divide_by_zero():\n",
    "    1/0\n",
    "\n",
    "try:\n",
    "    divide_by_zero()\n",
    "except ZeroDivisionError as err:\n",
    "    raise ValueError(\"don't divide by 0\") from err"
   ]
  },
  {
   "cell_type": "code",
   "execution_count": 109,
   "id": "e7eb9817",
   "metadata": {
    "slideshow": {
     "slide_type": "subslide"
    }
   },
   "outputs": [
    {
     "name": "stdout",
     "output_type": "stream",
     "text": [
      "except\n",
      "finally\n",
      "else\n",
      "finally\n"
     ]
    }
   ],
   "source": [
    "try:\n",
    "    1/0\n",
    "except ZeroDivisionError:\n",
    "    print(\"except\")  # except\n",
    "else:\n",
    "    print(\"else\")\n",
    "finally:\n",
    "    print(\"finally\")  # finally\n",
    "\n",
    "try:\n",
    "    users = []\n",
    "except ZeroDivisionError:\n",
    "    print(\"except\")\n",
    "else:\n",
    "    print(\"else\")  # else\n",
    "finally:\n",
    "    print(\"finally\")  # finally"
   ]
  },
  {
   "cell_type": "markdown",
   "id": "d44da722",
   "metadata": {
    "slideshow": {
     "slide_type": "slide"
    }
   },
   "source": [
    "### THE END"
   ]
  }
 ],
 "metadata": {
  "celltoolbar": "Slideshow",
  "kernelspec": {
   "display_name": "Python 3 (ipykernel)",
   "language": "python",
   "name": "python3"
  },
  "language_info": {
   "codemirror_mode": {
    "name": "ipython",
    "version": 3
   },
   "file_extension": ".py",
   "mimetype": "text/x-python",
   "name": "python",
   "nbconvert_exporter": "python",
   "pygments_lexer": "ipython3",
   "version": "3.9.1"
  }
 },
 "nbformat": 4,
 "nbformat_minor": 5
}
